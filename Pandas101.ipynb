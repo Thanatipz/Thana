{
  "nbformat": 4,
  "nbformat_minor": 0,
  "metadata": {
    "colab": {
      "name": " Pandas101.ipynb",
      "provenance": [],
      "toc_visible": true,
      "include_colab_link": true
    },
    "kernelspec": {
      "name": "python3",
      "display_name": "Python 3"
    }
  },
  "cells": [
    {
      "cell_type": "markdown",
      "metadata": {
        "id": "view-in-github",
        "colab_type": "text"
      },
      "source": [
        "<a href=\"https://colab.research.google.com/github/Thanatipz/python_dataviz2023/blob/main/Pandas101.ipynb\" target=\"_parent\"><img src=\"https://colab.research.google.com/assets/colab-badge.svg\" alt=\"Open In Colab\"/></a>"
      ]
    },
    {
      "cell_type": "code",
      "metadata": {
        "id": "-db5CJRNlwyL"
      },
      "source": [
        "import pandas as pd"
      ],
      "execution_count": 1,
      "outputs": []
    },
    {
      "cell_type": "markdown",
      "source": [
        "## Meta data = Data that describtion data\n",
        "\n",
        "ใช้อธิบายช้อมูล\n",
        "\n",
        "## CSV = Comma Separated Values\n",
        "ในการจะใส่ค่าแต่ละค่า จะใช้  comma ในการแย่ง"
      ],
      "metadata": {
        "id": "RuhVtlerGS4Q"
      }
    },
    {
      "cell_type": "markdown",
      "source": [
        ".csv = Comma Separated Values"
      ],
      "metadata": {
        "id": "nG20ex-3NX6H"
      }
    },
    {
      "cell_type": "markdown",
      "source": [
        "data.go.th"
      ],
      "metadata": {
        "id": "AyRXEjDINX3K"
      }
    },
    {
      "cell_type": "markdown",
      "source": [
        "# นำ Data เข้า\n",
        "- upload to colab  # กรณีใช้เเค่ครั้งเดียว\n",
        "- link with google drive"
      ],
      "metadata": {
        "id": "_rHnnYlYIGsG"
      }
    },
    {
      "cell_type": "markdown",
      "source": [
        "## upload to colab"
      ],
      "metadata": {
        "id": "9qyXeNjjJpaF"
      }
    },
    {
      "cell_type": "code",
      "source": [
        "data0 = pd.read_csv('/content/DataBKK01.csv')"
      ],
      "metadata": {
        "id": "baOzFVR9JqwU",
        "colab": {
          "base_uri": "https://localhost:8080/",
          "height": 328
        },
        "outputId": "0d1f3e65-265b-41d1-c444-999c881388de"
      },
      "execution_count": 2,
      "outputs": [
        {
          "output_type": "error",
          "ename": "FileNotFoundError",
          "evalue": "ignored",
          "traceback": [
            "\u001b[0;31m---------------------------------------------------------------------------\u001b[0m",
            "\u001b[0;31mFileNotFoundError\u001b[0m                         Traceback (most recent call last)",
            "\u001b[0;32m<ipython-input-2-18d4c33d553a>\u001b[0m in \u001b[0;36m<cell line: 1>\u001b[0;34m()\u001b[0m\n\u001b[0;32m----> 1\u001b[0;31m \u001b[0mdata0\u001b[0m \u001b[0;34m=\u001b[0m \u001b[0mpd\u001b[0m\u001b[0;34m.\u001b[0m\u001b[0mread_csv\u001b[0m\u001b[0;34m(\u001b[0m\u001b[0;34m'/content/DataBKK01.csv'\u001b[0m\u001b[0;34m)\u001b[0m\u001b[0;34m\u001b[0m\u001b[0;34m\u001b[0m\u001b[0m\n\u001b[0m",
            "\u001b[0;32m/usr/local/lib/python3.10/dist-packages/pandas/util/_decorators.py\u001b[0m in \u001b[0;36mwrapper\u001b[0;34m(*args, **kwargs)\u001b[0m\n\u001b[1;32m    209\u001b[0m                 \u001b[0;32melse\u001b[0m\u001b[0;34m:\u001b[0m\u001b[0;34m\u001b[0m\u001b[0;34m\u001b[0m\u001b[0m\n\u001b[1;32m    210\u001b[0m                     \u001b[0mkwargs\u001b[0m\u001b[0;34m[\u001b[0m\u001b[0mnew_arg_name\u001b[0m\u001b[0;34m]\u001b[0m \u001b[0;34m=\u001b[0m \u001b[0mnew_arg_value\u001b[0m\u001b[0;34m\u001b[0m\u001b[0;34m\u001b[0m\u001b[0m\n\u001b[0;32m--> 211\u001b[0;31m             \u001b[0;32mreturn\u001b[0m \u001b[0mfunc\u001b[0m\u001b[0;34m(\u001b[0m\u001b[0;34m*\u001b[0m\u001b[0margs\u001b[0m\u001b[0;34m,\u001b[0m \u001b[0;34m**\u001b[0m\u001b[0mkwargs\u001b[0m\u001b[0;34m)\u001b[0m\u001b[0;34m\u001b[0m\u001b[0;34m\u001b[0m\u001b[0m\n\u001b[0m\u001b[1;32m    212\u001b[0m \u001b[0;34m\u001b[0m\u001b[0m\n\u001b[1;32m    213\u001b[0m         \u001b[0;32mreturn\u001b[0m \u001b[0mcast\u001b[0m\u001b[0;34m(\u001b[0m\u001b[0mF\u001b[0m\u001b[0;34m,\u001b[0m \u001b[0mwrapper\u001b[0m\u001b[0;34m)\u001b[0m\u001b[0;34m\u001b[0m\u001b[0;34m\u001b[0m\u001b[0m\n",
            "\u001b[0;32m/usr/local/lib/python3.10/dist-packages/pandas/util/_decorators.py\u001b[0m in \u001b[0;36mwrapper\u001b[0;34m(*args, **kwargs)\u001b[0m\n\u001b[1;32m    329\u001b[0m                     \u001b[0mstacklevel\u001b[0m\u001b[0;34m=\u001b[0m\u001b[0mfind_stack_level\u001b[0m\u001b[0;34m(\u001b[0m\u001b[0;34m)\u001b[0m\u001b[0;34m,\u001b[0m\u001b[0;34m\u001b[0m\u001b[0;34m\u001b[0m\u001b[0m\n\u001b[1;32m    330\u001b[0m                 )\n\u001b[0;32m--> 331\u001b[0;31m             \u001b[0;32mreturn\u001b[0m \u001b[0mfunc\u001b[0m\u001b[0;34m(\u001b[0m\u001b[0;34m*\u001b[0m\u001b[0margs\u001b[0m\u001b[0;34m,\u001b[0m \u001b[0;34m**\u001b[0m\u001b[0mkwargs\u001b[0m\u001b[0;34m)\u001b[0m\u001b[0;34m\u001b[0m\u001b[0;34m\u001b[0m\u001b[0m\n\u001b[0m\u001b[1;32m    332\u001b[0m \u001b[0;34m\u001b[0m\u001b[0m\n\u001b[1;32m    333\u001b[0m         \u001b[0;31m# error: \"Callable[[VarArg(Any), KwArg(Any)], Any]\" has no\u001b[0m\u001b[0;34m\u001b[0m\u001b[0;34m\u001b[0m\u001b[0m\n",
            "\u001b[0;32m/usr/local/lib/python3.10/dist-packages/pandas/io/parsers/readers.py\u001b[0m in \u001b[0;36mread_csv\u001b[0;34m(filepath_or_buffer, sep, delimiter, header, names, index_col, usecols, squeeze, prefix, mangle_dupe_cols, dtype, engine, converters, true_values, false_values, skipinitialspace, skiprows, skipfooter, nrows, na_values, keep_default_na, na_filter, verbose, skip_blank_lines, parse_dates, infer_datetime_format, keep_date_col, date_parser, dayfirst, cache_dates, iterator, chunksize, compression, thousands, decimal, lineterminator, quotechar, quoting, doublequote, escapechar, comment, encoding, encoding_errors, dialect, error_bad_lines, warn_bad_lines, on_bad_lines, delim_whitespace, low_memory, memory_map, float_precision, storage_options)\u001b[0m\n\u001b[1;32m    948\u001b[0m     \u001b[0mkwds\u001b[0m\u001b[0;34m.\u001b[0m\u001b[0mupdate\u001b[0m\u001b[0;34m(\u001b[0m\u001b[0mkwds_defaults\u001b[0m\u001b[0;34m)\u001b[0m\u001b[0;34m\u001b[0m\u001b[0;34m\u001b[0m\u001b[0m\n\u001b[1;32m    949\u001b[0m \u001b[0;34m\u001b[0m\u001b[0m\n\u001b[0;32m--> 950\u001b[0;31m     \u001b[0;32mreturn\u001b[0m \u001b[0m_read\u001b[0m\u001b[0;34m(\u001b[0m\u001b[0mfilepath_or_buffer\u001b[0m\u001b[0;34m,\u001b[0m \u001b[0mkwds\u001b[0m\u001b[0;34m)\u001b[0m\u001b[0;34m\u001b[0m\u001b[0;34m\u001b[0m\u001b[0m\n\u001b[0m\u001b[1;32m    951\u001b[0m \u001b[0;34m\u001b[0m\u001b[0m\n\u001b[1;32m    952\u001b[0m \u001b[0;34m\u001b[0m\u001b[0m\n",
            "\u001b[0;32m/usr/local/lib/python3.10/dist-packages/pandas/io/parsers/readers.py\u001b[0m in \u001b[0;36m_read\u001b[0;34m(filepath_or_buffer, kwds)\u001b[0m\n\u001b[1;32m    603\u001b[0m \u001b[0;34m\u001b[0m\u001b[0m\n\u001b[1;32m    604\u001b[0m     \u001b[0;31m# Create the parser.\u001b[0m\u001b[0;34m\u001b[0m\u001b[0;34m\u001b[0m\u001b[0m\n\u001b[0;32m--> 605\u001b[0;31m     \u001b[0mparser\u001b[0m \u001b[0;34m=\u001b[0m \u001b[0mTextFileReader\u001b[0m\u001b[0;34m(\u001b[0m\u001b[0mfilepath_or_buffer\u001b[0m\u001b[0;34m,\u001b[0m \u001b[0;34m**\u001b[0m\u001b[0mkwds\u001b[0m\u001b[0;34m)\u001b[0m\u001b[0;34m\u001b[0m\u001b[0;34m\u001b[0m\u001b[0m\n\u001b[0m\u001b[1;32m    606\u001b[0m \u001b[0;34m\u001b[0m\u001b[0m\n\u001b[1;32m    607\u001b[0m     \u001b[0;32mif\u001b[0m \u001b[0mchunksize\u001b[0m \u001b[0;32mor\u001b[0m \u001b[0miterator\u001b[0m\u001b[0;34m:\u001b[0m\u001b[0;34m\u001b[0m\u001b[0;34m\u001b[0m\u001b[0m\n",
            "\u001b[0;32m/usr/local/lib/python3.10/dist-packages/pandas/io/parsers/readers.py\u001b[0m in \u001b[0;36m__init__\u001b[0;34m(self, f, engine, **kwds)\u001b[0m\n\u001b[1;32m   1440\u001b[0m \u001b[0;34m\u001b[0m\u001b[0m\n\u001b[1;32m   1441\u001b[0m         \u001b[0mself\u001b[0m\u001b[0;34m.\u001b[0m\u001b[0mhandles\u001b[0m\u001b[0;34m:\u001b[0m \u001b[0mIOHandles\u001b[0m \u001b[0;34m|\u001b[0m \u001b[0;32mNone\u001b[0m \u001b[0;34m=\u001b[0m \u001b[0;32mNone\u001b[0m\u001b[0;34m\u001b[0m\u001b[0;34m\u001b[0m\u001b[0m\n\u001b[0;32m-> 1442\u001b[0;31m         \u001b[0mself\u001b[0m\u001b[0;34m.\u001b[0m\u001b[0m_engine\u001b[0m \u001b[0;34m=\u001b[0m \u001b[0mself\u001b[0m\u001b[0;34m.\u001b[0m\u001b[0m_make_engine\u001b[0m\u001b[0;34m(\u001b[0m\u001b[0mf\u001b[0m\u001b[0;34m,\u001b[0m \u001b[0mself\u001b[0m\u001b[0;34m.\u001b[0m\u001b[0mengine\u001b[0m\u001b[0;34m)\u001b[0m\u001b[0;34m\u001b[0m\u001b[0;34m\u001b[0m\u001b[0m\n\u001b[0m\u001b[1;32m   1443\u001b[0m \u001b[0;34m\u001b[0m\u001b[0m\n\u001b[1;32m   1444\u001b[0m     \u001b[0;32mdef\u001b[0m \u001b[0mclose\u001b[0m\u001b[0;34m(\u001b[0m\u001b[0mself\u001b[0m\u001b[0;34m)\u001b[0m \u001b[0;34m->\u001b[0m \u001b[0;32mNone\u001b[0m\u001b[0;34m:\u001b[0m\u001b[0;34m\u001b[0m\u001b[0;34m\u001b[0m\u001b[0m\n",
            "\u001b[0;32m/usr/local/lib/python3.10/dist-packages/pandas/io/parsers/readers.py\u001b[0m in \u001b[0;36m_make_engine\u001b[0;34m(self, f, engine)\u001b[0m\n\u001b[1;32m   1733\u001b[0m                 \u001b[0;32mif\u001b[0m \u001b[0;34m\"b\"\u001b[0m \u001b[0;32mnot\u001b[0m \u001b[0;32min\u001b[0m \u001b[0mmode\u001b[0m\u001b[0;34m:\u001b[0m\u001b[0;34m\u001b[0m\u001b[0;34m\u001b[0m\u001b[0m\n\u001b[1;32m   1734\u001b[0m                     \u001b[0mmode\u001b[0m \u001b[0;34m+=\u001b[0m \u001b[0;34m\"b\"\u001b[0m\u001b[0;34m\u001b[0m\u001b[0;34m\u001b[0m\u001b[0m\n\u001b[0;32m-> 1735\u001b[0;31m             self.handles = get_handle(\n\u001b[0m\u001b[1;32m   1736\u001b[0m                 \u001b[0mf\u001b[0m\u001b[0;34m,\u001b[0m\u001b[0;34m\u001b[0m\u001b[0;34m\u001b[0m\u001b[0m\n\u001b[1;32m   1737\u001b[0m                 \u001b[0mmode\u001b[0m\u001b[0;34m,\u001b[0m\u001b[0;34m\u001b[0m\u001b[0;34m\u001b[0m\u001b[0m\n",
            "\u001b[0;32m/usr/local/lib/python3.10/dist-packages/pandas/io/common.py\u001b[0m in \u001b[0;36mget_handle\u001b[0;34m(path_or_buf, mode, encoding, compression, memory_map, is_text, errors, storage_options)\u001b[0m\n\u001b[1;32m    854\u001b[0m         \u001b[0;32mif\u001b[0m \u001b[0mioargs\u001b[0m\u001b[0;34m.\u001b[0m\u001b[0mencoding\u001b[0m \u001b[0;32mand\u001b[0m \u001b[0;34m\"b\"\u001b[0m \u001b[0;32mnot\u001b[0m \u001b[0;32min\u001b[0m \u001b[0mioargs\u001b[0m\u001b[0;34m.\u001b[0m\u001b[0mmode\u001b[0m\u001b[0;34m:\u001b[0m\u001b[0;34m\u001b[0m\u001b[0;34m\u001b[0m\u001b[0m\n\u001b[1;32m    855\u001b[0m             \u001b[0;31m# Encoding\u001b[0m\u001b[0;34m\u001b[0m\u001b[0;34m\u001b[0m\u001b[0m\n\u001b[0;32m--> 856\u001b[0;31m             handle = open(\n\u001b[0m\u001b[1;32m    857\u001b[0m                 \u001b[0mhandle\u001b[0m\u001b[0;34m,\u001b[0m\u001b[0;34m\u001b[0m\u001b[0;34m\u001b[0m\u001b[0m\n\u001b[1;32m    858\u001b[0m                 \u001b[0mioargs\u001b[0m\u001b[0;34m.\u001b[0m\u001b[0mmode\u001b[0m\u001b[0;34m,\u001b[0m\u001b[0;34m\u001b[0m\u001b[0;34m\u001b[0m\u001b[0m\n",
            "\u001b[0;31mFileNotFoundError\u001b[0m: [Errno 2] No such file or directory: '/content/DataBKK01.csv'"
          ]
        }
      ]
    },
    {
      "cell_type": "code",
      "source": [
        "#data0"
      ],
      "metadata": {
        "id": "cErTCZusF3C4"
      },
      "execution_count": null,
      "outputs": []
    },
    {
      "cell_type": "code",
      "source": [
        "data0.head(20)"
      ],
      "metadata": {
        "id": "cUr1kbUXK8L8"
      },
      "execution_count": null,
      "outputs": []
    },
    {
      "cell_type": "code",
      "source": [
        "data0.tail()"
      ],
      "metadata": {
        "id": "95BSAuQoKF2Q"
      },
      "execution_count": null,
      "outputs": []
    },
    {
      "cell_type": "code",
      "source": [
        "data0.shape"
      ],
      "metadata": {
        "id": "ZY0D6SyDKKt-"
      },
      "execution_count": null,
      "outputs": []
    },
    {
      "cell_type": "code",
      "source": [
        "data0.describe()"
      ],
      "metadata": {
        "id": "aLWKlTshKffv"
      },
      "execution_count": null,
      "outputs": []
    },
    {
      "cell_type": "markdown",
      "source": [
        "## link with google drive"
      ],
      "metadata": {
        "id": "CgUMNJxVO9FV"
      }
    },
    {
      "cell_type": "code",
      "metadata": {
        "id": "RwYRFJocm086"
      },
      "source": [
        "from google.colab import drive\n",
        "drive.mount('/content/drive')  # mount =  เชื่อมไดร์ฟ"
      ],
      "execution_count": null,
      "outputs": []
    },
    {
      "cell_type": "code",
      "source": [
        "data1 = pd.read_csv('/content/drive/MyDrive/DataViz23Data/csv.csv')\n",
        "data1.head()"
      ],
      "metadata": {
        "id": "PSxrUlEWPjHE"
      },
      "execution_count": null,
      "outputs": []
    },
    {
      "cell_type": "code",
      "source": [
        "data1.head(10)  # ดูหัวตาราง จากแถวบน 10 แถวแรก นับจาก 0-9"
      ],
      "metadata": {
        "id": "x2yBLVzVQZp0"
      },
      "execution_count": null,
      "outputs": []
    },
    {
      "cell_type": "code",
      "source": [
        "data1.tail(10) # ดูท้ายตาราง จากข้างล่าง"
      ],
      "metadata": {
        "id": "ekG57u89QWrH"
      },
      "execution_count": null,
      "outputs": []
    },
    {
      "cell_type": "code",
      "source": [
        "data1.shape # ดูขนาด กี่เเถวกี่หลัก"
      ],
      "metadata": {
        "id": "QQMkd0xvQhvJ"
      },
      "execution_count": null,
      "outputs": []
    },
    {
      "cell_type": "code",
      "source": [
        "data1.describe()"
      ],
      "metadata": {
        "id": "nTnEhgEnTMSX"
      },
      "execution_count": null,
      "outputs": []
    },
    {
      "cell_type": "markdown",
      "source": [
        "NaN = Not a Number"
      ],
      "metadata": {
        "id": "4GLanX2ocuyZ"
      }
    },
    {
      "cell_type": "markdown",
      "source": [
        "### DF คือ DataFrame เป็นชื่อ Data Structure ที่ Pandas ใช้"
      ],
      "metadata": {
        "id": "thWl8wFt3YYI"
      }
    },
    {
      "cell_type": "markdown",
      "source": [
        "# ชี้ค่าในตาราง (indexing)\n"
      ],
      "metadata": {
        "id": "GYQmkd9IdAKj"
      }
    },
    {
      "cell_type": "markdown",
      "source": [
        "## มุมมองตาราง ```df[columns][rows]```"
      ],
      "metadata": {
        "id": "toMesaGZ3G-5"
      }
    },
    {
      "cell_type": "code",
      "source": [
        "data1['Budget_resource']"
      ],
      "metadata": {
        "id": "xDWwYMEJeSsz"
      },
      "execution_count": null,
      "outputs": []
    },
    {
      "cell_type": "code",
      "source": [
        "data1['Budget_resource'][690]"
      ],
      "metadata": {
        "id": "0AFYyNv-dJEg"
      },
      "execution_count": null,
      "outputs": []
    },
    {
      "cell_type": "code",
      "source": [
        "data1['Budget_resource'][-3:-1]"
      ],
      "metadata": {
        "id": "8A_uJTY51eOo"
      },
      "execution_count": null,
      "outputs": []
    },
    {
      "cell_type": "code",
      "source": [
        "data1.columns"
      ],
      "metadata": {
        "id": "74_WVYEf2Bv0"
      },
      "execution_count": null,
      "outputs": []
    },
    {
      "cell_type": "code",
      "source": [
        "data1[['Approved_buget','Item_name','Department']]"
      ],
      "metadata": {
        "id": "03sQBxCO1v9O"
      },
      "execution_count": null,
      "outputs": []
    },
    {
      "cell_type": "code",
      "source": [
        "data1[['Approved_buget','Item_name','Department']][6:11]"
      ],
      "metadata": {
        "id": "zQRtEtYT2yUb"
      },
      "execution_count": null,
      "outputs": []
    },
    {
      "cell_type": "markdown",
      "source": [
        "## มุมมองแบบ Array"
      ],
      "metadata": {
        "id": "tUKKZcxH3xLX"
      }
    },
    {
      "cell_type": "code",
      "source": [
        "data1.iloc[0,0] # .iloc เปลี่ยนมุมมองเป็น np.arry  ชี้เป็นแถว คอลัม ติดลบ สไลด์ได้"
      ],
      "metadata": {
        "id": "g1CFntgVeC8v"
      },
      "execution_count": null,
      "outputs": []
    },
    {
      "cell_type": "code",
      "source": [
        "data1.iloc[-6,5]"
      ],
      "metadata": {
        "id": "Rob2z77HeqMx"
      },
      "execution_count": null,
      "outputs": []
    },
    {
      "cell_type": "code",
      "source": [
        " data1.tail(7)"
      ],
      "metadata": {
        "id": "3Sa8GwWQ44cT"
      },
      "execution_count": null,
      "outputs": []
    },
    {
      "cell_type": "markdown",
      "source": [
        "### Table Slicing\n",
        "ไม่ค่อยมีประสิทธิภาพ\n",
        "ต้องทราบพิกัด"
      ],
      "metadata": {
        "id": "C503gqEWeuuj"
      }
    },
    {
      "cell_type": "code",
      "source": [
        "data1.iloc[-20:,7:10]"
      ],
      "metadata": {
        "id": "jblMyFWufTfW"
      },
      "execution_count": null,
      "outputs": []
    },
    {
      "cell_type": "markdown",
      "source": [
        " ## table Query"
      ],
      "metadata": {
        "id": "h9oTu2hKgMBK"
      }
    },
    {
      "cell_type": "markdown",
      "source": [
        "```df[logics]``` โดยที่ logics จะต้องมีจำนวนสมาชิกเท่ากับจำนวนแถวของ df"
      ],
      "metadata": {
        "id": "VPfltpm95zsN"
      }
    },
    {
      "cell_type": "code",
      "source": [
        "small_df = data1.iloc[-5:,:]\n",
        "small_df"
      ],
      "metadata": {
        "id": "0XfXtqjG6so7"
      },
      "execution_count": null,
      "outputs": []
    },
    {
      "cell_type": "code",
      "source": [
        "small_df[[False,True,True,False,False]]"
      ],
      "metadata": {
        "id": "NErA78NH6sdb"
      },
      "execution_count": null,
      "outputs": []
    },
    {
      "cell_type": "markdown",
      "source": [
        "## ปั้น list of logics จากตาราง pandas"
      ],
      "metadata": {
        "id": "CYsMn4yu8D9c"
      }
    },
    {
      "cell_type": "code",
      "source": [
        "small_df['Approved_buget']< 1000000"
      ],
      "metadata": {
        "id": "Np8Bagb06sZk"
      },
      "execution_count": null,
      "outputs": []
    },
    {
      "cell_type": "code",
      "source": [
        "small_df[small_df['Approved_buget']< 1000000]"
      ],
      "metadata": {
        "id": "zMxg_Kgb83do"
      },
      "execution_count": null,
      "outputs": []
    },
    {
      "cell_type": "markdown",
      "source": [
        "# Quiz3 อยากได้รายการที่ได้รับอนุมัติงบมากกว่า 1 ล้านบาท แต่ไม่เกิน 2 ล้าน"
      ],
      "metadata": {
        "id": "v7kBuH6Y9PjM"
      }
    },
    {
      "cell_type": "code",
      "source": [],
      "metadata": {
        "id": "tVmlNNSs83aU"
      },
      "execution_count": null,
      "outputs": []
    },
    {
      "cell_type": "code",
      "source": [],
      "metadata": {
        "id": "GLDqmwmf83Wj"
      },
      "execution_count": null,
      "outputs": []
    },
    {
      "cell_type": "code",
      "source": [],
      "metadata": {
        "id": "gBvZlbjb83R8"
      },
      "execution_count": null,
      "outputs": []
    },
    {
      "cell_type": "code",
      "source": [],
      "metadata": {
        "id": "0gqTupCB6sVn"
      },
      "execution_count": null,
      "outputs": []
    },
    {
      "cell_type": "markdown",
      "source": [
        "# Quiz 4\n",
        "1. ราคาเฉลี่ยของบ้านที่มีราคาระหว่าง 3-5 ร้านบาท\n",
        "2. พื้นที่ และ จำนวนห้องนอนของบ้านที่แพงที่สุด\n",
        "3. จำนวนที่จอดรถและห้องน้ำของบ้านที่ถูกที่สุด\n",
        "4. ชนิดของบ้านที่แพงที่สุด\n",
        "5. บ้านชนิดไหนมีปริมาณมากที่สุด"
      ],
      "metadata": {
        "id": "Hub_AdJqiOAO"
      }
    },
    {
      "cell_type": "markdown",
      "source": [
        "# Missing Values"
      ],
      "metadata": {
        "id": "c1NuBOWvApQf"
      }
    },
    {
      "cell_type": "markdown",
      "source": [
        "# ตรวจสอบ Missing (```isnull()```)"
      ],
      "metadata": {
        "id": "HT8aUn3kEzRI"
      }
    },
    {
      "cell_type": "code",
      "source": [
        "data1.isnull()"
      ],
      "metadata": {
        "id": "f8kwTIWyBnSt"
      },
      "execution_count": null,
      "outputs": []
    },
    {
      "cell_type": "code",
      "source": [
        "data1.isnull().any() # .any() เอาค่าความจริงใน column มา OR กัน (ใช้หาค่าว่าง)"
      ],
      "metadata": {
        "id": "Xedt7QXqDkJ6"
      },
      "execution_count": null,
      "outputs": []
    },
    {
      "cell_type": "code",
      "source": [
        "data1.isnull().all() # .all() เอาค่าความจริงใน column มา AND กัน"
      ],
      "metadata": {
        "id": "D2OrckdlE5Ot"
      },
      "execution_count": null,
      "outputs": []
    },
    {
      "cell_type": "code",
      "source": [
        "data1.isnull().any().any()"
      ],
      "metadata": {
        "id": "jTfgKcyiE5Dg"
      },
      "execution_count": null,
      "outputs": []
    },
    {
      "cell_type": "markdown",
      "metadata": {
        "id": "Jol0oyUYb2-9"
      },
      "source": [
        "การจัดการ Missing Value\n",
        "\n",
        "- ลบ record ที่เป็น missing (```dropna```)\n",
        "- แทนที่ ค่า missing ด้วยค่าที่เหมาะสม mean, default, category-unknown (```fillna```)\n",
        "- ใช้ ค่าจาก columns อื่นๆ ช่วยประมาณค่า ค่าใน column ที่หายไป (regression, deep learning, etc.) (```fillna```)"
      ]
    },
    {
      "cell_type": "markdown",
      "source": [
        "## NaN Not a Number\n",
        "## Null Null\n",
        "## NA Not Available/Not Authorised\n",
        "## None"
      ],
      "metadata": {
        "id": "I5JMNYsmFJZ0"
      }
    },
    {
      "cell_type": "markdown",
      "source": [
        "## DropNA"
      ],
      "metadata": {
        "id": "hWoE0gddJpep"
      }
    },
    {
      "cell_type": "code",
      "source": [
        "data1.shape"
      ],
      "metadata": {
        "id": "PaCNYPmXFs5d"
      },
      "execution_count": null,
      "outputs": []
    },
    {
      "cell_type": "code",
      "source": [
        "data1.dropna().shape"
      ],
      "metadata": {
        "id": "kWb7gEeDDsHW"
      },
      "execution_count": null,
      "outputs": []
    },
    {
      "cell_type": "code",
      "source": [
        "data1.dropna(subset=['Fiscal_year']).shape"
      ],
      "metadata": {
        "id": "3cJ2zBhBDsEs"
      },
      "execution_count": null,
      "outputs": []
    },
    {
      "cell_type": "code",
      "source": [
        "data1.dropna(subset=['Fiscal_year'])"
      ],
      "metadata": {
        "id": "Worb_xd9DsB0"
      },
      "execution_count": null,
      "outputs": []
    },
    {
      "cell_type": "code",
      "source": [
        "data1.isnull().any()"
      ],
      "metadata": {
        "id": "vrTnY6-FIaig"
      },
      "execution_count": null,
      "outputs": []
    },
    {
      "cell_type": "code",
      "source": [
        "data1_1 = data1.dropna(subset=['Fiscal_year'])"
      ],
      "metadata": {
        "id": "EDiYbx1cIbIl"
      },
      "execution_count": null,
      "outputs": []
    },
    {
      "cell_type": "code",
      "source": [
        "data1_1.isnull().any()"
      ],
      "metadata": {
        "id": "x70vLeIEIbE7"
      },
      "execution_count": null,
      "outputs": []
    },
    {
      "cell_type": "code",
      "source": [
        "data1.dropna(subset=['Fiscal_year'],inplace=True)"
      ],
      "metadata": {
        "id": "7Rx0R5LRIbCU"
      },
      "execution_count": null,
      "outputs": []
    },
    {
      "cell_type": "code",
      "source": [
        "data1.isnull().any()"
      ],
      "metadata": {
        "id": "MvIJ0eWlDr-y"
      },
      "execution_count": null,
      "outputs": []
    },
    {
      "cell_type": "markdown",
      "source": [
        "## FillNA"
      ],
      "metadata": {
        "id": "GSoOTreIJtpk"
      }
    },
    {
      "cell_type": "code",
      "source": [
        "set(data1['Core_budget_code'])"
      ],
      "metadata": {
        "id": "anKtT-uJJtZt"
      },
      "execution_count": null,
      "outputs": []
    },
    {
      "cell_type": "code",
      "source": [
        "data1.fillna('-',inplace=True)"
      ],
      "metadata": {
        "id": "Xpju27TuIae8"
      },
      "execution_count": null,
      "outputs": []
    },
    {
      "cell_type": "code",
      "source": [
        "set(data1['Core_budget_code'])"
      ],
      "metadata": {
        "id": "_iJS4ausJ2e9"
      },
      "execution_count": null,
      "outputs": []
    },
    {
      "cell_type": "code",
      "source": [
        "data1.isnull().any()"
      ],
      "metadata": {
        "id": "b-VNBK42J2cD"
      },
      "execution_count": null,
      "outputs": []
    },
    {
      "cell_type": "code",
      "source": [
        "data1['Department'])"
      ],
      "metadata": {
        "id": "b5vKrvVjL7Q0"
      },
      "execution_count": null,
      "outputs": []
    },
    {
      "cell_type": "markdown",
      "source": [
        "# HW3\n",
        "\n",
        "\n",
        "\n",
        "1.   รายการที่แพงและถูกที่สุดคือรายการไหน\n",
        "2.   รายการขุดลอกคูคลองของ 'สำนักงานเขตคลองสาน' และ 'สำนักงานเขตคลองสามวา'\n",
        "3.   จากข้อ 2 เขตไหนใช้งบประมาณเยอะกว่ากัน\n",
        "4.   Core Budget ไหน ('12-เงินสำรองจ่ายทั่วไป กรณีค่าใช้จ่ายต่างๆ เกี่ยวกับน้ำท่วม', '17-เงินสำรองจ่ายทั่วไป กรณีค่าใช้จ่ายเพื่อการพัฒนากรุงเทพมหานคร','28-เงินสำรองค่าใช้จ่าย ในการพัฒนาเขต') มีค่าเฉลี่ยงบประมาณที่ถูกอนุมัติสูงที่สุด\n"
      ],
      "metadata": {
        "id": "ajjqoKa4LwKi"
      }
    },
    {
      "cell_type": "code",
      "source": [
        "data1_T = data1[(data1['Approved_buget'] == data1['Approved_buget'].max()) | (data1['Approved_buget'] == data1['Approved_buget'].min())][['Item_name','Approved_buget']]\n",
        "data1_T #ข้อ1"
      ],
      "metadata": {
        "id": "n5nZ6_iJJ2Yq"
      },
      "execution_count": null,
      "outputs": []
    },
    {
      "cell_type": "code",
      "source": [
        "data_T2 = data1[(data1['Department'] == 'สำนักงานเขตคลองสาน') | (data1['Department'] == 'สำนักงานเขตคลองสามวา')]\n",
        "data_T2 #ข้อ2"
      ],
      "metadata": {
        "id": "kwjSGnSnJ2VT"
      },
      "execution_count": null,
      "outputs": []
    },
    {
      "cell_type": "code",
      "source": [
        "data1[(data1['Department'] == 'สำนักงานเขตคลองสาน') | (data1['Department'] == 'สำนักงานเขตคลองสามวา')].shape\n"
      ],
      "metadata": {
        "id": "6zH1V-fGbVv5"
      },
      "execution_count": null,
      "outputs": []
    },
    {
      "cell_type": "code",
      "source": [
        "datana = data1[(data1['Department'] == 'สำนักงานเขตคลองสาน') | (data1['Department'] == 'สำนักงานเขตคลองสามวา')]\n",
        "\n",
        "\n"
      ],
      "metadata": {
        "id": "xF-atyQecbK4"
      },
      "execution_count": null,
      "outputs": []
    },
    {
      "cell_type": "code",
      "source": [
        "datana [['Budget_resource','Issue_No','Fiscal_year',                      #ข้อ3จากข้อ2 สำนักงานเขตไหนใช้งบเยอะกว่า\n",
        "           'Department_code','Department','Core_budget_code',\n",
        "           'Expenditure_category','Item_name','Approved_buget']].max()"
      ],
      "metadata": {
        "id": "3JYm0s62uQZP"
      },
      "execution_count": null,
      "outputs": []
    },
    {
      "cell_type": "code",
      "source": [
        "doo_data1 = data1.dropna()   #ข้อ4Core Budget ไหน  มีค่าเฉลี่ยงบประมาณที่ถูกอนุมัติสูงที่สุด\n",
        "df_data1 = doo_data1[doo_data1['Core_budget_code'] != '-']\n",
        "df_data1_12 =df_data1[df_data1['Core_budget_code'] == '12-เงินสำรองจ่ายทั่วไป กรณีค่าใช้จ่ายต่างๆ เกี่ยวกับน้ำท่วม']\n",
        "df_data1_28 =df_data1[df_data1['Core_budget_code'] == '28-เงินสำรองค่าใช้จ่าย ในการพัฒนาเขต']\n",
        "df_data1_17 =df_data1[df_data1['Core_budget_code'] == '17-เงินสำรองจ่ายทั่วไป กรณีค่าใช้จ่ายเพื่อการพัฒนากรุงเทพมหานคร']\n",
        "corename = []\n",
        "A=set(df_data1['Core_budget_code'])\n",
        "for n in A:\n",
        "  corename.append(n)\n",
        "df_data1_12_MEAN = df_data1_12['Approved_buget'].mean()\n",
        "df_data1_17_MEAN = df_data1_17['Approved_buget'].mean()\n",
        "df_data1_28_MEAN = df_data1_28['Approved_buget'].mean()\n",
        "if (df_data1_12_MEAN > df_data1_17_MEAN ) & (df_data1_12_MEAN > df_data1_28_MEAN )  :\n",
        "  print(f'รายการ {corename[1]} มีค่าเฉลี่ยงบประมาณที่ถูกอนุมัติสูงที่สุดคือ {df_data1_12_MEAN}')\n",
        "elif (df_data1_17_MEAN > df_data1_12_MEAN ) & (df_data1_17_MEAN > df_data1_28_MEAN ):\n",
        "  print(f'รายการ {corename[2]} มีค่าเฉลี่ยงบประมาณที่ถูกอนุมัติสูงที่สุดคือ {df_data1_17_MEAN}')\n",
        "elif (df_data1_28_MEAN > df_data1_12_MEAN ) & (df_data1_28_MEAN > df_data1_17_MEAN ):\n",
        "  print(f'รายการ {corename[3]} มีค่าเฉลี่ยงบประมาณที่ถูกอนุมัติสูงที่สุดคือ {df_data1_28_MEAN}')"
      ],
      "metadata": {
        "id": "Exdnw3dUvuvu"
      },
      "execution_count": null,
      "outputs": []
    },
    {
      "cell_type": "code",
      "source": [
        "df_data1_12_MEAN = df_data1_12['Approved_buget'].mean()\n",
        "df_data1_12_MEAN"
      ],
      "metadata": {
        "id": "uJnEwpLC9MvV"
      },
      "execution_count": null,
      "outputs": []
    },
    {
      "cell_type": "code",
      "source": [
        "df_data1_17_MEAN = df_data1_17['Approved_buget'].mean()\n",
        "df_data1_17_MEAN"
      ],
      "metadata": {
        "id": "yIykvkCx9NQu"
      },
      "execution_count": null,
      "outputs": []
    },
    {
      "cell_type": "code",
      "source": [
        "df_data1_28_MEAN = df_data1_28['Approved_buget'].mean()\n",
        "df_data1_28_MEAN"
      ],
      "metadata": {
        "id": "wiGaA4Hj9NnT"
      },
      "execution_count": null,
      "outputs": []
    },
    {
      "cell_type": "markdown",
      "metadata": {
        "id": "ZbzScMVdb6U7"
      },
      "source": [
        "### การวนลูป record ในตาราง  (```.iterrows```)"
      ]
    },
    {
      "cell_type": "code",
      "metadata": {
        "id": "HuvNCoCRq1YQ"
      },
      "source": [
        "this_data = data_covid[['sex','age','province_of_onset']]\n",
        "this_data"
      ],
      "execution_count": null,
      "outputs": []
    },
    {
      "cell_type": "code",
      "source": [
        "for row_i in range (len(data1)):\n",
        "  print(data1.iloc[row_i,-2:])\n",
        "  print('-'*5)"
      ],
      "metadata": {
        "id": "MG75fzYMKwAN"
      },
      "execution_count": null,
      "outputs": []
    },
    {
      "cell_type": "code",
      "source": [
        "for row in data1.iterrows():\n",
        "  #print(row)\n",
        "  print(row[1]['Fiscal_year'])\n",
        "  print('--------------------')"
      ],
      "metadata": {
        "id": "9zIQQERCLS47"
      },
      "execution_count": null,
      "outputs": []
    },
    {
      "cell_type": "markdown",
      "source": [
        "#การสร้างคอลัมน์เพิ่ม\n",
        "df['ชื่อ column ใหม่']= list of data# list of data มีจำนวนสมาชิกเท่ากับจำนวน row ของตาราง\n"
      ],
      "metadata": {
        "id": "YxzUyQujM8PE"
      }
    },
    {
      "cell_type": "code",
      "source": [
        "small_df['ผู้รับผิดชอบ']=['ลุงตู่','ลุงตู่','ลุงป้อม','ชัชชาติ','พิธา']"
      ],
      "metadata": {
        "id": "sQSXrHg9dCYR"
      },
      "execution_count": null,
      "outputs": []
    },
    {
      "cell_type": "markdown",
      "source": [
        "#ลบคอลัมน์"
      ],
      "metadata": {
        "id": "Fj7oZ-S1OjhC"
      }
    },
    {
      "cell_type": "code",
      "source": [
        "small_df.drop(axis=1,columns=['Core_budget_code'])#1คือ column 0คือrow"
      ],
      "metadata": {
        "id": "-WR3SDf7Oi-h"
      },
      "execution_count": null,
      "outputs": []
    },
    {
      "cell_type": "code",
      "source": [
        "new_column=list()\n",
        "for row in data1.iterrows():\n",
        "  new_col=f\"{row[1]['Department']}-{row[1]['Expenditure_category']}-{row[1]['Item_name']}\"\n",
        "  new_column.append(new_col)"
      ],
      "metadata": {
        "id": "UVsDj1X-P5FH"
      },
      "execution_count": null,
      "outputs": []
    },
    {
      "cell_type": "code",
      "source": [
        "data1['description']= new_column\n",
        "data1=data1.drop(axis=1,columns=['Department','Expenditure_category','Item_name'])"
      ],
      "metadata": {
        "id": "JqRwCsTWSWnY"
      },
      "execution_count": null,
      "outputs": []
    },
    {
      "cell_type": "code",
      "source": [
        "data1"
      ],
      "metadata": {
        "id": "ZUpJCFOkTI8L"
      },
      "execution_count": null,
      "outputs": []
    },
    {
      "cell_type": "markdown",
      "metadata": {
        "id": "gXOzi1O6BAFO"
      },
      "source": [
        "# Function ตัวช่วยใน pandas"
      ]
    },
    {
      "cell_type": "markdown",
      "metadata": {
        "id": "TvToU8hCCJL-"
      },
      "source": [
        "### ```.describe()``` คำนวณค่าทางสถิติของข้อมูลที่เป็นตัวเลข"
      ]
    },
    {
      "cell_type": "code",
      "metadata": {
        "id": "XM8qJ0o7A7ip"
      },
      "source": [
        "data_covid.describe()"
      ],
      "execution_count": null,
      "outputs": []
    },
    {
      "cell_type": "markdown",
      "metadata": {
        "id": "zXToQo4-CaPF"
      },
      "source": [
        "### ```.mean()``` คำนวณค่าเฉลี่ยของข้อมูลโดยไม่สนใจ missing"
      ]
    },
    {
      "cell_type": "code",
      "metadata": {
        "id": "TBwXJCRLBomc"
      },
      "source": [
        "data_covid[data_covid['sex']=='ชาย']['age'].mean()"
      ],
      "execution_count": null,
      "outputs": []
    },
    {
      "cell_type": "markdown",
      "metadata": {
        "id": "NuwVtwnjCpb5"
      },
      "source": [
        "### ```.isnull()```"
      ]
    },
    {
      "cell_type": "code",
      "metadata": {
        "id": "GNHkaDLMCo5t"
      },
      "source": [
        "data_covid.isnull()"
      ],
      "execution_count": null,
      "outputs": []
    },
    {
      "cell_type": "markdown",
      "metadata": {
        "id": "mkAeKL1D5HLi"
      },
      "source": [
        "# next\n",
        "\n",
        "*   ต่อตารางแกน X แกน y\n",
        "*   .groupby\n",
        "*   save table"
      ]
    },
    {
      "cell_type": "markdown",
      "source": [
        "#Excelเดือน9"
      ],
      "metadata": {
        "id": "xJKeN2-SbHTu"
      }
    },
    {
      "cell_type": "code",
      "metadata": {
        "id": "hqgXy4NYxy1W"
      },
      "source": [
        "import pandas as pd\n",
        "import os"
      ],
      "execution_count": 3,
      "outputs": []
    },
    {
      "cell_type": "code",
      "source": [
        "from google.colab import drive\n",
        "drive.mount('/content/drive')"
      ],
      "metadata": {
        "colab": {
          "base_uri": "https://localhost:8080/"
        },
        "id": "N4D1YtfBZmoy",
        "outputId": "ae35a134-4f84-4a53-e10b-7bc7d92fcfd7"
      },
      "execution_count": 4,
      "outputs": [
        {
          "output_type": "stream",
          "name": "stdout",
          "text": [
            "Mounted at /content/drive\n"
          ]
        }
      ]
    },
    {
      "cell_type": "code",
      "source": [
        "datasep= pd.read_excel('/content/drive/MyDrive/DataViz23Data/september.xlsx',header=8,skipfooter=26,)\n",
        "datasep"
      ],
      "metadata": {
        "colab": {
          "base_uri": "https://localhost:8080/",
          "height": 372
        },
        "id": "6VdFrSUPZrS_",
        "outputId": "0d8ae78f-b0d4-42ac-82c3-cd250165c977"
      },
      "execution_count": 5,
      "outputs": [
        {
          "output_type": "execute_result",
          "data": {
            "text/plain": [
              "                            รายการ      งบประมาณ  สำรองเงินมีหนี้  \\\n",
              "0  งบประมาณรายจ่ายประจำปี พ.ศ.2565           NaN              NaN   \n",
              "1                           ภาพรวม  2.852539e+10     3.476005e+08   \n",
              "2                            ประจำ  1.892013e+10     7.925745e+07   \n",
              "3                            ลงทุน  9.605258e+09     2.683430e+08   \n",
              "\n",
              "             PO      เบิกจ่าย  ร้อยละ\\nเบิกจ่าย  เป้า\\nหมาย Q4  */- เป้าหมาย  \\\n",
              "0           NaN           NaN               NaN            NaN           NaN   \n",
              "1  1.190636e+09  2.700392e+10         94.666269           93.0      1.666269   \n",
              "2  7.131600e+07  1.880196e+10         99.375405           98.0      1.375405   \n",
              "3  1.119320e+09  8.201965e+09         85.390363           75.0     10.390363   \n",
              "\n",
              "   การใช้จ่าย (PO+เบิกจ่าย)  ร้อยละ\\nการใช้จ่าย  ...  ลำดับ\\nใช้จ่าย  \\\n",
              "0                       NaN                 NaN  ...             NaN   \n",
              "1              2.854216e+10          100.058786  ...            51.0   \n",
              "2              1.895253e+10          100.171242  ...             NaN   \n",
              "3              9.589628e+09           99.837275  ...            15.0   \n",
              "\n",
              "   Unnamed: 15  รายการ.1    งบประมาณ.1    ผลเบิกจ่าย  ร้อยละเบิกจ่าย   \\\n",
              "0          NaN       NaN           NaN           NaN              NaN   \n",
              "1          3.0    ภาพรวม  21663.922002  15260.448175        70.441761   \n",
              "2          NaN     ประจำ  12452.794570  10580.839075        84.967587   \n",
              "3         13.0     ลงทุน   9211.127432   4679.609100        50.803869   \n",
              "\n",
              "  สูงกว่าเป้าหมาย     ผลการใช้จ่าย      ร้อยละ  สูงกว่าเป้าหมาย.1  \n",
              "0       ไตรมาส 2   (PO + เบิกจ่าย)  การใช้จ่าย           ไตรมาส 2  \n",
              "1       19.441761     18069.314644   83.407403          27.167403  \n",
              "2       27.967587     10614.976114   85.241719          29.461719  \n",
              "3       21.803869       7454.33853   80.927537          22.777537  \n",
              "\n",
              "[4 rows x 24 columns]"
            ],
            "text/html": [
              "\n",
              "\n",
              "  <div id=\"df-decb83e2-260e-4508-b374-b07abe7b3c1c\">\n",
              "    <div class=\"colab-df-container\">\n",
              "      <div>\n",
              "<style scoped>\n",
              "    .dataframe tbody tr th:only-of-type {\n",
              "        vertical-align: middle;\n",
              "    }\n",
              "\n",
              "    .dataframe tbody tr th {\n",
              "        vertical-align: top;\n",
              "    }\n",
              "\n",
              "    .dataframe thead th {\n",
              "        text-align: right;\n",
              "    }\n",
              "</style>\n",
              "<table border=\"1\" class=\"dataframe\">\n",
              "  <thead>\n",
              "    <tr style=\"text-align: right;\">\n",
              "      <th></th>\n",
              "      <th>รายการ</th>\n",
              "      <th>งบประมาณ</th>\n",
              "      <th>สำรองเงินมีหนี้</th>\n",
              "      <th>PO</th>\n",
              "      <th>เบิกจ่าย</th>\n",
              "      <th>ร้อยละ\\nเบิกจ่าย</th>\n",
              "      <th>เป้า\\nหมาย Q4</th>\n",
              "      <th>*/- เป้าหมาย</th>\n",
              "      <th>การใช้จ่าย (PO+เบิกจ่าย)</th>\n",
              "      <th>ร้อยละ\\nการใช้จ่าย</th>\n",
              "      <th>...</th>\n",
              "      <th>ลำดับ\\nใช้จ่าย</th>\n",
              "      <th>Unnamed: 15</th>\n",
              "      <th>รายการ.1</th>\n",
              "      <th>งบประมาณ.1</th>\n",
              "      <th>ผลเบิกจ่าย</th>\n",
              "      <th>ร้อยละเบิกจ่าย</th>\n",
              "      <th>สูงกว่าเป้าหมาย</th>\n",
              "      <th>ผลการใช้จ่าย</th>\n",
              "      <th>ร้อยละ</th>\n",
              "      <th>สูงกว่าเป้าหมาย.1</th>\n",
              "    </tr>\n",
              "  </thead>\n",
              "  <tbody>\n",
              "    <tr>\n",
              "      <th>0</th>\n",
              "      <td>งบประมาณรายจ่ายประจำปี พ.ศ.2565</td>\n",
              "      <td>NaN</td>\n",
              "      <td>NaN</td>\n",
              "      <td>NaN</td>\n",
              "      <td>NaN</td>\n",
              "      <td>NaN</td>\n",
              "      <td>NaN</td>\n",
              "      <td>NaN</td>\n",
              "      <td>NaN</td>\n",
              "      <td>NaN</td>\n",
              "      <td>...</td>\n",
              "      <td>NaN</td>\n",
              "      <td>NaN</td>\n",
              "      <td>NaN</td>\n",
              "      <td>NaN</td>\n",
              "      <td>NaN</td>\n",
              "      <td>NaN</td>\n",
              "      <td>ไตรมาส 2</td>\n",
              "      <td>(PO + เบิกจ่าย)</td>\n",
              "      <td>การใช้จ่าย</td>\n",
              "      <td>ไตรมาส 2</td>\n",
              "    </tr>\n",
              "    <tr>\n",
              "      <th>1</th>\n",
              "      <td>ภาพรวม</td>\n",
              "      <td>2.852539e+10</td>\n",
              "      <td>3.476005e+08</td>\n",
              "      <td>1.190636e+09</td>\n",
              "      <td>2.700392e+10</td>\n",
              "      <td>94.666269</td>\n",
              "      <td>93.0</td>\n",
              "      <td>1.666269</td>\n",
              "      <td>2.854216e+10</td>\n",
              "      <td>100.058786</td>\n",
              "      <td>...</td>\n",
              "      <td>51.0</td>\n",
              "      <td>3.0</td>\n",
              "      <td>ภาพรวม</td>\n",
              "      <td>21663.922002</td>\n",
              "      <td>15260.448175</td>\n",
              "      <td>70.441761</td>\n",
              "      <td>19.441761</td>\n",
              "      <td>18069.314644</td>\n",
              "      <td>83.407403</td>\n",
              "      <td>27.167403</td>\n",
              "    </tr>\n",
              "    <tr>\n",
              "      <th>2</th>\n",
              "      <td>ประจำ</td>\n",
              "      <td>1.892013e+10</td>\n",
              "      <td>7.925745e+07</td>\n",
              "      <td>7.131600e+07</td>\n",
              "      <td>1.880196e+10</td>\n",
              "      <td>99.375405</td>\n",
              "      <td>98.0</td>\n",
              "      <td>1.375405</td>\n",
              "      <td>1.895253e+10</td>\n",
              "      <td>100.171242</td>\n",
              "      <td>...</td>\n",
              "      <td>NaN</td>\n",
              "      <td>NaN</td>\n",
              "      <td>ประจำ</td>\n",
              "      <td>12452.794570</td>\n",
              "      <td>10580.839075</td>\n",
              "      <td>84.967587</td>\n",
              "      <td>27.967587</td>\n",
              "      <td>10614.976114</td>\n",
              "      <td>85.241719</td>\n",
              "      <td>29.461719</td>\n",
              "    </tr>\n",
              "    <tr>\n",
              "      <th>3</th>\n",
              "      <td>ลงทุน</td>\n",
              "      <td>9.605258e+09</td>\n",
              "      <td>2.683430e+08</td>\n",
              "      <td>1.119320e+09</td>\n",
              "      <td>8.201965e+09</td>\n",
              "      <td>85.390363</td>\n",
              "      <td>75.0</td>\n",
              "      <td>10.390363</td>\n",
              "      <td>9.589628e+09</td>\n",
              "      <td>99.837275</td>\n",
              "      <td>...</td>\n",
              "      <td>15.0</td>\n",
              "      <td>13.0</td>\n",
              "      <td>ลงทุน</td>\n",
              "      <td>9211.127432</td>\n",
              "      <td>4679.609100</td>\n",
              "      <td>50.803869</td>\n",
              "      <td>21.803869</td>\n",
              "      <td>7454.33853</td>\n",
              "      <td>80.927537</td>\n",
              "      <td>22.777537</td>\n",
              "    </tr>\n",
              "  </tbody>\n",
              "</table>\n",
              "<p>4 rows × 24 columns</p>\n",
              "</div>\n",
              "      <button class=\"colab-df-convert\" onclick=\"convertToInteractive('df-decb83e2-260e-4508-b374-b07abe7b3c1c')\"\n",
              "              title=\"Convert this dataframe to an interactive table.\"\n",
              "              style=\"display:none;\">\n",
              "\n",
              "  <svg xmlns=\"http://www.w3.org/2000/svg\" height=\"24px\"viewBox=\"0 0 24 24\"\n",
              "       width=\"24px\">\n",
              "    <path d=\"M0 0h24v24H0V0z\" fill=\"none\"/>\n",
              "    <path d=\"M18.56 5.44l.94 2.06.94-2.06 2.06-.94-2.06-.94-.94-2.06-.94 2.06-2.06.94zm-11 1L8.5 8.5l.94-2.06 2.06-.94-2.06-.94L8.5 2.5l-.94 2.06-2.06.94zm10 10l.94 2.06.94-2.06 2.06-.94-2.06-.94-.94-2.06-.94 2.06-2.06.94z\"/><path d=\"M17.41 7.96l-1.37-1.37c-.4-.4-.92-.59-1.43-.59-.52 0-1.04.2-1.43.59L10.3 9.45l-7.72 7.72c-.78.78-.78 2.05 0 2.83L4 21.41c.39.39.9.59 1.41.59.51 0 1.02-.2 1.41-.59l7.78-7.78 2.81-2.81c.8-.78.8-2.07 0-2.86zM5.41 20L4 18.59l7.72-7.72 1.47 1.35L5.41 20z\"/>\n",
              "  </svg>\n",
              "      </button>\n",
              "\n",
              "\n",
              "\n",
              "    <div id=\"df-7ee5918f-9d51-4c9a-bcbe-3dd8a6682deb\">\n",
              "      <button class=\"colab-df-quickchart\" onclick=\"quickchart('df-7ee5918f-9d51-4c9a-bcbe-3dd8a6682deb')\"\n",
              "              title=\"Suggest charts.\"\n",
              "              style=\"display:none;\">\n",
              "\n",
              "<svg xmlns=\"http://www.w3.org/2000/svg\" height=\"24px\"viewBox=\"0 0 24 24\"\n",
              "     width=\"24px\">\n",
              "    <g>\n",
              "        <path d=\"M19 3H5c-1.1 0-2 .9-2 2v14c0 1.1.9 2 2 2h14c1.1 0 2-.9 2-2V5c0-1.1-.9-2-2-2zM9 17H7v-7h2v7zm4 0h-2V7h2v10zm4 0h-2v-4h2v4z\"/>\n",
              "    </g>\n",
              "</svg>\n",
              "      </button>\n",
              "    </div>\n",
              "\n",
              "<style>\n",
              "  .colab-df-quickchart {\n",
              "    background-color: #E8F0FE;\n",
              "    border: none;\n",
              "    border-radius: 50%;\n",
              "    cursor: pointer;\n",
              "    display: none;\n",
              "    fill: #1967D2;\n",
              "    height: 32px;\n",
              "    padding: 0 0 0 0;\n",
              "    width: 32px;\n",
              "  }\n",
              "\n",
              "  .colab-df-quickchart:hover {\n",
              "    background-color: #E2EBFA;\n",
              "    box-shadow: 0px 1px 2px rgba(60, 64, 67, 0.3), 0px 1px 3px 1px rgba(60, 64, 67, 0.15);\n",
              "    fill: #174EA6;\n",
              "  }\n",
              "\n",
              "  [theme=dark] .colab-df-quickchart {\n",
              "    background-color: #3B4455;\n",
              "    fill: #D2E3FC;\n",
              "  }\n",
              "\n",
              "  [theme=dark] .colab-df-quickchart:hover {\n",
              "    background-color: #434B5C;\n",
              "    box-shadow: 0px 1px 3px 1px rgba(0, 0, 0, 0.15);\n",
              "    filter: drop-shadow(0px 1px 2px rgba(0, 0, 0, 0.3));\n",
              "    fill: #FFFFFF;\n",
              "  }\n",
              "</style>\n",
              "\n",
              "    <script>\n",
              "      async function quickchart(key) {\n",
              "        const containerElement = document.querySelector('#' + key);\n",
              "        const charts = await google.colab.kernel.invokeFunction(\n",
              "            'suggestCharts', [key], {});\n",
              "      }\n",
              "    </script>\n",
              "\n",
              "      <script>\n",
              "\n",
              "function displayQuickchartButton(domScope) {\n",
              "  let quickchartButtonEl =\n",
              "    domScope.querySelector('#df-7ee5918f-9d51-4c9a-bcbe-3dd8a6682deb button.colab-df-quickchart');\n",
              "  quickchartButtonEl.style.display =\n",
              "    google.colab.kernel.accessAllowed ? 'block' : 'none';\n",
              "}\n",
              "\n",
              "        displayQuickchartButton(document);\n",
              "      </script>\n",
              "      <style>\n",
              "    .colab-df-container {\n",
              "      display:flex;\n",
              "      flex-wrap:wrap;\n",
              "      gap: 12px;\n",
              "    }\n",
              "\n",
              "    .colab-df-convert {\n",
              "      background-color: #E8F0FE;\n",
              "      border: none;\n",
              "      border-radius: 50%;\n",
              "      cursor: pointer;\n",
              "      display: none;\n",
              "      fill: #1967D2;\n",
              "      height: 32px;\n",
              "      padding: 0 0 0 0;\n",
              "      width: 32px;\n",
              "    }\n",
              "\n",
              "    .colab-df-convert:hover {\n",
              "      background-color: #E2EBFA;\n",
              "      box-shadow: 0px 1px 2px rgba(60, 64, 67, 0.3), 0px 1px 3px 1px rgba(60, 64, 67, 0.15);\n",
              "      fill: #174EA6;\n",
              "    }\n",
              "\n",
              "    [theme=dark] .colab-df-convert {\n",
              "      background-color: #3B4455;\n",
              "      fill: #D2E3FC;\n",
              "    }\n",
              "\n",
              "    [theme=dark] .colab-df-convert:hover {\n",
              "      background-color: #434B5C;\n",
              "      box-shadow: 0px 1px 3px 1px rgba(0, 0, 0, 0.15);\n",
              "      filter: drop-shadow(0px 1px 2px rgba(0, 0, 0, 0.3));\n",
              "      fill: #FFFFFF;\n",
              "    }\n",
              "  </style>\n",
              "\n",
              "      <script>\n",
              "        const buttonEl =\n",
              "          document.querySelector('#df-decb83e2-260e-4508-b374-b07abe7b3c1c button.colab-df-convert');\n",
              "        buttonEl.style.display =\n",
              "          google.colab.kernel.accessAllowed ? 'block' : 'none';\n",
              "\n",
              "        async function convertToInteractive(key) {\n",
              "          const element = document.querySelector('#df-decb83e2-260e-4508-b374-b07abe7b3c1c');\n",
              "          const dataTable =\n",
              "            await google.colab.kernel.invokeFunction('convertToInteractive',\n",
              "                                                     [key], {});\n",
              "          if (!dataTable) return;\n",
              "\n",
              "          const docLinkHtml = 'Like what you see? Visit the ' +\n",
              "            '<a target=\"_blank\" href=https://colab.research.google.com/notebooks/data_table.ipynb>data table notebook</a>'\n",
              "            + ' to learn more about interactive tables.';\n",
              "          element.innerHTML = '';\n",
              "          dataTable['output_type'] = 'display_data';\n",
              "          await google.colab.output.renderOutput(dataTable, element);\n",
              "          const docLink = document.createElement('div');\n",
              "          docLink.innerHTML = docLinkHtml;\n",
              "          element.appendChild(docLink);\n",
              "        }\n",
              "      </script>\n",
              "    </div>\n",
              "  </div>\n"
            ]
          },
          "metadata": {},
          "execution_count": 5
        }
      ]
    },
    {
      "cell_type": "markdown",
      "source": [
        "#quiz4 ตัดตารางให้ sep_dfให้เหลือเฉพาะ15คอลัมน์แรกและข้อมูล งบประจำ กับ งบลงทุน"
      ],
      "metadata": {
        "id": "fTADlKF0dAA9"
      }
    },
    {
      "cell_type": "code",
      "source": [
        "datasep=datasep.iloc[-2:,:15]\n",
        "datasep"
      ],
      "metadata": {
        "colab": {
          "base_uri": "https://localhost:8080/",
          "height": 211
        },
        "id": "khUmXbfRcyfe",
        "outputId": "53f4bac9-0711-4696-9ad9-848702e19e3c"
      },
      "execution_count": 6,
      "outputs": [
        {
          "output_type": "execute_result",
          "data": {
            "text/plain": [
              "  รายการ      งบประมาณ  สำรองเงินมีหนี้            PO      เบิกจ่าย  \\\n",
              "2  ประจำ  1.892013e+10     7.925745e+07  7.131600e+07  1.880196e+10   \n",
              "3  ลงทุน  9.605258e+09     2.683430e+08  1.119320e+09  8.201965e+09   \n",
              "\n",
              "   ร้อยละ\\nเบิกจ่าย  เป้า\\nหมาย Q4  */- เป้าหมาย  การใช้จ่าย (PO+เบิกจ่าย)  \\\n",
              "2         99.375405           98.0      1.375405              1.895253e+10   \n",
              "3         85.390363           75.0     10.390363              9.589628e+09   \n",
              "\n",
              "   ร้อยละ\\nการใช้จ่าย  เป้า\\nหมาย Q4.1  */- เป้าหมาย.1  \\\n",
              "2          100.171242            100.0        0.171242   \n",
              "3           99.837275            100.0       -0.162725   \n",
              "\n",
              "   คงเหลือ\\nหลังหักใช้จ่าย  ลำดับเบิกจ่าย  ลำดับ\\nใช้จ่าย  \n",
              "2            -3.239918e+07            NaN             NaN  \n",
              "3             1.563013e+07            6.0            15.0  "
            ],
            "text/html": [
              "\n",
              "\n",
              "  <div id=\"df-761402b1-5985-40df-a0da-0d3c53772464\">\n",
              "    <div class=\"colab-df-container\">\n",
              "      <div>\n",
              "<style scoped>\n",
              "    .dataframe tbody tr th:only-of-type {\n",
              "        vertical-align: middle;\n",
              "    }\n",
              "\n",
              "    .dataframe tbody tr th {\n",
              "        vertical-align: top;\n",
              "    }\n",
              "\n",
              "    .dataframe thead th {\n",
              "        text-align: right;\n",
              "    }\n",
              "</style>\n",
              "<table border=\"1\" class=\"dataframe\">\n",
              "  <thead>\n",
              "    <tr style=\"text-align: right;\">\n",
              "      <th></th>\n",
              "      <th>รายการ</th>\n",
              "      <th>งบประมาณ</th>\n",
              "      <th>สำรองเงินมีหนี้</th>\n",
              "      <th>PO</th>\n",
              "      <th>เบิกจ่าย</th>\n",
              "      <th>ร้อยละ\\nเบิกจ่าย</th>\n",
              "      <th>เป้า\\nหมาย Q4</th>\n",
              "      <th>*/- เป้าหมาย</th>\n",
              "      <th>การใช้จ่าย (PO+เบิกจ่าย)</th>\n",
              "      <th>ร้อยละ\\nการใช้จ่าย</th>\n",
              "      <th>เป้า\\nหมาย Q4.1</th>\n",
              "      <th>*/- เป้าหมาย.1</th>\n",
              "      <th>คงเหลือ\\nหลังหักใช้จ่าย</th>\n",
              "      <th>ลำดับเบิกจ่าย</th>\n",
              "      <th>ลำดับ\\nใช้จ่าย</th>\n",
              "    </tr>\n",
              "  </thead>\n",
              "  <tbody>\n",
              "    <tr>\n",
              "      <th>2</th>\n",
              "      <td>ประจำ</td>\n",
              "      <td>1.892013e+10</td>\n",
              "      <td>7.925745e+07</td>\n",
              "      <td>7.131600e+07</td>\n",
              "      <td>1.880196e+10</td>\n",
              "      <td>99.375405</td>\n",
              "      <td>98.0</td>\n",
              "      <td>1.375405</td>\n",
              "      <td>1.895253e+10</td>\n",
              "      <td>100.171242</td>\n",
              "      <td>100.0</td>\n",
              "      <td>0.171242</td>\n",
              "      <td>-3.239918e+07</td>\n",
              "      <td>NaN</td>\n",
              "      <td>NaN</td>\n",
              "    </tr>\n",
              "    <tr>\n",
              "      <th>3</th>\n",
              "      <td>ลงทุน</td>\n",
              "      <td>9.605258e+09</td>\n",
              "      <td>2.683430e+08</td>\n",
              "      <td>1.119320e+09</td>\n",
              "      <td>8.201965e+09</td>\n",
              "      <td>85.390363</td>\n",
              "      <td>75.0</td>\n",
              "      <td>10.390363</td>\n",
              "      <td>9.589628e+09</td>\n",
              "      <td>99.837275</td>\n",
              "      <td>100.0</td>\n",
              "      <td>-0.162725</td>\n",
              "      <td>1.563013e+07</td>\n",
              "      <td>6.0</td>\n",
              "      <td>15.0</td>\n",
              "    </tr>\n",
              "  </tbody>\n",
              "</table>\n",
              "</div>\n",
              "      <button class=\"colab-df-convert\" onclick=\"convertToInteractive('df-761402b1-5985-40df-a0da-0d3c53772464')\"\n",
              "              title=\"Convert this dataframe to an interactive table.\"\n",
              "              style=\"display:none;\">\n",
              "\n",
              "  <svg xmlns=\"http://www.w3.org/2000/svg\" height=\"24px\"viewBox=\"0 0 24 24\"\n",
              "       width=\"24px\">\n",
              "    <path d=\"M0 0h24v24H0V0z\" fill=\"none\"/>\n",
              "    <path d=\"M18.56 5.44l.94 2.06.94-2.06 2.06-.94-2.06-.94-.94-2.06-.94 2.06-2.06.94zm-11 1L8.5 8.5l.94-2.06 2.06-.94-2.06-.94L8.5 2.5l-.94 2.06-2.06.94zm10 10l.94 2.06.94-2.06 2.06-.94-2.06-.94-.94-2.06-.94 2.06-2.06.94z\"/><path d=\"M17.41 7.96l-1.37-1.37c-.4-.4-.92-.59-1.43-.59-.52 0-1.04.2-1.43.59L10.3 9.45l-7.72 7.72c-.78.78-.78 2.05 0 2.83L4 21.41c.39.39.9.59 1.41.59.51 0 1.02-.2 1.41-.59l7.78-7.78 2.81-2.81c.8-.78.8-2.07 0-2.86zM5.41 20L4 18.59l7.72-7.72 1.47 1.35L5.41 20z\"/>\n",
              "  </svg>\n",
              "      </button>\n",
              "\n",
              "\n",
              "\n",
              "    <div id=\"df-7f4df146-b440-42b2-b00e-0c6893dfdecc\">\n",
              "      <button class=\"colab-df-quickchart\" onclick=\"quickchart('df-7f4df146-b440-42b2-b00e-0c6893dfdecc')\"\n",
              "              title=\"Suggest charts.\"\n",
              "              style=\"display:none;\">\n",
              "\n",
              "<svg xmlns=\"http://www.w3.org/2000/svg\" height=\"24px\"viewBox=\"0 0 24 24\"\n",
              "     width=\"24px\">\n",
              "    <g>\n",
              "        <path d=\"M19 3H5c-1.1 0-2 .9-2 2v14c0 1.1.9 2 2 2h14c1.1 0 2-.9 2-2V5c0-1.1-.9-2-2-2zM9 17H7v-7h2v7zm4 0h-2V7h2v10zm4 0h-2v-4h2v4z\"/>\n",
              "    </g>\n",
              "</svg>\n",
              "      </button>\n",
              "    </div>\n",
              "\n",
              "<style>\n",
              "  .colab-df-quickchart {\n",
              "    background-color: #E8F0FE;\n",
              "    border: none;\n",
              "    border-radius: 50%;\n",
              "    cursor: pointer;\n",
              "    display: none;\n",
              "    fill: #1967D2;\n",
              "    height: 32px;\n",
              "    padding: 0 0 0 0;\n",
              "    width: 32px;\n",
              "  }\n",
              "\n",
              "  .colab-df-quickchart:hover {\n",
              "    background-color: #E2EBFA;\n",
              "    box-shadow: 0px 1px 2px rgba(60, 64, 67, 0.3), 0px 1px 3px 1px rgba(60, 64, 67, 0.15);\n",
              "    fill: #174EA6;\n",
              "  }\n",
              "\n",
              "  [theme=dark] .colab-df-quickchart {\n",
              "    background-color: #3B4455;\n",
              "    fill: #D2E3FC;\n",
              "  }\n",
              "\n",
              "  [theme=dark] .colab-df-quickchart:hover {\n",
              "    background-color: #434B5C;\n",
              "    box-shadow: 0px 1px 3px 1px rgba(0, 0, 0, 0.15);\n",
              "    filter: drop-shadow(0px 1px 2px rgba(0, 0, 0, 0.3));\n",
              "    fill: #FFFFFF;\n",
              "  }\n",
              "</style>\n",
              "\n",
              "    <script>\n",
              "      async function quickchart(key) {\n",
              "        const containerElement = document.querySelector('#' + key);\n",
              "        const charts = await google.colab.kernel.invokeFunction(\n",
              "            'suggestCharts', [key], {});\n",
              "      }\n",
              "    </script>\n",
              "\n",
              "      <script>\n",
              "\n",
              "function displayQuickchartButton(domScope) {\n",
              "  let quickchartButtonEl =\n",
              "    domScope.querySelector('#df-7f4df146-b440-42b2-b00e-0c6893dfdecc button.colab-df-quickchart');\n",
              "  quickchartButtonEl.style.display =\n",
              "    google.colab.kernel.accessAllowed ? 'block' : 'none';\n",
              "}\n",
              "\n",
              "        displayQuickchartButton(document);\n",
              "      </script>\n",
              "      <style>\n",
              "    .colab-df-container {\n",
              "      display:flex;\n",
              "      flex-wrap:wrap;\n",
              "      gap: 12px;\n",
              "    }\n",
              "\n",
              "    .colab-df-convert {\n",
              "      background-color: #E8F0FE;\n",
              "      border: none;\n",
              "      border-radius: 50%;\n",
              "      cursor: pointer;\n",
              "      display: none;\n",
              "      fill: #1967D2;\n",
              "      height: 32px;\n",
              "      padding: 0 0 0 0;\n",
              "      width: 32px;\n",
              "    }\n",
              "\n",
              "    .colab-df-convert:hover {\n",
              "      background-color: #E2EBFA;\n",
              "      box-shadow: 0px 1px 2px rgba(60, 64, 67, 0.3), 0px 1px 3px 1px rgba(60, 64, 67, 0.15);\n",
              "      fill: #174EA6;\n",
              "    }\n",
              "\n",
              "    [theme=dark] .colab-df-convert {\n",
              "      background-color: #3B4455;\n",
              "      fill: #D2E3FC;\n",
              "    }\n",
              "\n",
              "    [theme=dark] .colab-df-convert:hover {\n",
              "      background-color: #434B5C;\n",
              "      box-shadow: 0px 1px 3px 1px rgba(0, 0, 0, 0.15);\n",
              "      filter: drop-shadow(0px 1px 2px rgba(0, 0, 0, 0.3));\n",
              "      fill: #FFFFFF;\n",
              "    }\n",
              "  </style>\n",
              "\n",
              "      <script>\n",
              "        const buttonEl =\n",
              "          document.querySelector('#df-761402b1-5985-40df-a0da-0d3c53772464 button.colab-df-convert');\n",
              "        buttonEl.style.display =\n",
              "          google.colab.kernel.accessAllowed ? 'block' : 'none';\n",
              "\n",
              "        async function convertToInteractive(key) {\n",
              "          const element = document.querySelector('#df-761402b1-5985-40df-a0da-0d3c53772464');\n",
              "          const dataTable =\n",
              "            await google.colab.kernel.invokeFunction('convertToInteractive',\n",
              "                                                     [key], {});\n",
              "          if (!dataTable) return;\n",
              "\n",
              "          const docLinkHtml = 'Like what you see? Visit the ' +\n",
              "            '<a target=\"_blank\" href=https://colab.research.google.com/notebooks/data_table.ipynb>data table notebook</a>'\n",
              "            + ' to learn more about interactive tables.';\n",
              "          element.innerHTML = '';\n",
              "          dataTable['output_type'] = 'display_data';\n",
              "          await google.colab.output.renderOutput(dataTable, element);\n",
              "          const docLink = document.createElement('div');\n",
              "          docLink.innerHTML = docLinkHtml;\n",
              "          element.appendChild(docLink);\n",
              "        }\n",
              "      </script>\n",
              "    </div>\n",
              "  </div>\n"
            ]
          },
          "metadata": {},
          "execution_count": 6
        }
      ]
    },
    {
      "cell_type": "code",
      "source": [
        "datasep['เดือน-ปี']=len(datasep)*['sep-65']\n",
        "datasep"
      ],
      "metadata": {
        "id": "RaefnRmgf4mx",
        "outputId": "7235c71d-4f99-45a5-f5b3-bb087c2cb1c4",
        "colab": {
          "base_uri": "https://localhost:8080/",
          "height": 245
        }
      },
      "execution_count": 7,
      "outputs": [
        {
          "output_type": "execute_result",
          "data": {
            "text/plain": [
              "  รายการ      งบประมาณ  สำรองเงินมีหนี้            PO      เบิกจ่าย  \\\n",
              "2  ประจำ  1.892013e+10     7.925745e+07  7.131600e+07  1.880196e+10   \n",
              "3  ลงทุน  9.605258e+09     2.683430e+08  1.119320e+09  8.201965e+09   \n",
              "\n",
              "   ร้อยละ\\nเบิกจ่าย  เป้า\\nหมาย Q4  */- เป้าหมาย  การใช้จ่าย (PO+เบิกจ่าย)  \\\n",
              "2         99.375405           98.0      1.375405              1.895253e+10   \n",
              "3         85.390363           75.0     10.390363              9.589628e+09   \n",
              "\n",
              "   ร้อยละ\\nการใช้จ่าย  เป้า\\nหมาย Q4.1  */- เป้าหมาย.1  \\\n",
              "2          100.171242            100.0        0.171242   \n",
              "3           99.837275            100.0       -0.162725   \n",
              "\n",
              "   คงเหลือ\\nหลังหักใช้จ่าย  ลำดับเบิกจ่าย  ลำดับ\\nใช้จ่าย เดือน-ปี  \n",
              "2            -3.239918e+07            NaN             NaN   sep-65  \n",
              "3             1.563013e+07            6.0            15.0   sep-65  "
            ],
            "text/html": [
              "\n",
              "\n",
              "  <div id=\"df-86c39b01-4516-4c5c-a340-907811223ead\">\n",
              "    <div class=\"colab-df-container\">\n",
              "      <div>\n",
              "<style scoped>\n",
              "    .dataframe tbody tr th:only-of-type {\n",
              "        vertical-align: middle;\n",
              "    }\n",
              "\n",
              "    .dataframe tbody tr th {\n",
              "        vertical-align: top;\n",
              "    }\n",
              "\n",
              "    .dataframe thead th {\n",
              "        text-align: right;\n",
              "    }\n",
              "</style>\n",
              "<table border=\"1\" class=\"dataframe\">\n",
              "  <thead>\n",
              "    <tr style=\"text-align: right;\">\n",
              "      <th></th>\n",
              "      <th>รายการ</th>\n",
              "      <th>งบประมาณ</th>\n",
              "      <th>สำรองเงินมีหนี้</th>\n",
              "      <th>PO</th>\n",
              "      <th>เบิกจ่าย</th>\n",
              "      <th>ร้อยละ\\nเบิกจ่าย</th>\n",
              "      <th>เป้า\\nหมาย Q4</th>\n",
              "      <th>*/- เป้าหมาย</th>\n",
              "      <th>การใช้จ่าย (PO+เบิกจ่าย)</th>\n",
              "      <th>ร้อยละ\\nการใช้จ่าย</th>\n",
              "      <th>เป้า\\nหมาย Q4.1</th>\n",
              "      <th>*/- เป้าหมาย.1</th>\n",
              "      <th>คงเหลือ\\nหลังหักใช้จ่าย</th>\n",
              "      <th>ลำดับเบิกจ่าย</th>\n",
              "      <th>ลำดับ\\nใช้จ่าย</th>\n",
              "      <th>เดือน-ปี</th>\n",
              "    </tr>\n",
              "  </thead>\n",
              "  <tbody>\n",
              "    <tr>\n",
              "      <th>2</th>\n",
              "      <td>ประจำ</td>\n",
              "      <td>1.892013e+10</td>\n",
              "      <td>7.925745e+07</td>\n",
              "      <td>7.131600e+07</td>\n",
              "      <td>1.880196e+10</td>\n",
              "      <td>99.375405</td>\n",
              "      <td>98.0</td>\n",
              "      <td>1.375405</td>\n",
              "      <td>1.895253e+10</td>\n",
              "      <td>100.171242</td>\n",
              "      <td>100.0</td>\n",
              "      <td>0.171242</td>\n",
              "      <td>-3.239918e+07</td>\n",
              "      <td>NaN</td>\n",
              "      <td>NaN</td>\n",
              "      <td>sep-65</td>\n",
              "    </tr>\n",
              "    <tr>\n",
              "      <th>3</th>\n",
              "      <td>ลงทุน</td>\n",
              "      <td>9.605258e+09</td>\n",
              "      <td>2.683430e+08</td>\n",
              "      <td>1.119320e+09</td>\n",
              "      <td>8.201965e+09</td>\n",
              "      <td>85.390363</td>\n",
              "      <td>75.0</td>\n",
              "      <td>10.390363</td>\n",
              "      <td>9.589628e+09</td>\n",
              "      <td>99.837275</td>\n",
              "      <td>100.0</td>\n",
              "      <td>-0.162725</td>\n",
              "      <td>1.563013e+07</td>\n",
              "      <td>6.0</td>\n",
              "      <td>15.0</td>\n",
              "      <td>sep-65</td>\n",
              "    </tr>\n",
              "  </tbody>\n",
              "</table>\n",
              "</div>\n",
              "      <button class=\"colab-df-convert\" onclick=\"convertToInteractive('df-86c39b01-4516-4c5c-a340-907811223ead')\"\n",
              "              title=\"Convert this dataframe to an interactive table.\"\n",
              "              style=\"display:none;\">\n",
              "\n",
              "  <svg xmlns=\"http://www.w3.org/2000/svg\" height=\"24px\"viewBox=\"0 0 24 24\"\n",
              "       width=\"24px\">\n",
              "    <path d=\"M0 0h24v24H0V0z\" fill=\"none\"/>\n",
              "    <path d=\"M18.56 5.44l.94 2.06.94-2.06 2.06-.94-2.06-.94-.94-2.06-.94 2.06-2.06.94zm-11 1L8.5 8.5l.94-2.06 2.06-.94-2.06-.94L8.5 2.5l-.94 2.06-2.06.94zm10 10l.94 2.06.94-2.06 2.06-.94-2.06-.94-.94-2.06-.94 2.06-2.06.94z\"/><path d=\"M17.41 7.96l-1.37-1.37c-.4-.4-.92-.59-1.43-.59-.52 0-1.04.2-1.43.59L10.3 9.45l-7.72 7.72c-.78.78-.78 2.05 0 2.83L4 21.41c.39.39.9.59 1.41.59.51 0 1.02-.2 1.41-.59l7.78-7.78 2.81-2.81c.8-.78.8-2.07 0-2.86zM5.41 20L4 18.59l7.72-7.72 1.47 1.35L5.41 20z\"/>\n",
              "  </svg>\n",
              "      </button>\n",
              "\n",
              "\n",
              "\n",
              "    <div id=\"df-b582fa6f-40f0-4ffc-b587-10a8656cd6f1\">\n",
              "      <button class=\"colab-df-quickchart\" onclick=\"quickchart('df-b582fa6f-40f0-4ffc-b587-10a8656cd6f1')\"\n",
              "              title=\"Suggest charts.\"\n",
              "              style=\"display:none;\">\n",
              "\n",
              "<svg xmlns=\"http://www.w3.org/2000/svg\" height=\"24px\"viewBox=\"0 0 24 24\"\n",
              "     width=\"24px\">\n",
              "    <g>\n",
              "        <path d=\"M19 3H5c-1.1 0-2 .9-2 2v14c0 1.1.9 2 2 2h14c1.1 0 2-.9 2-2V5c0-1.1-.9-2-2-2zM9 17H7v-7h2v7zm4 0h-2V7h2v10zm4 0h-2v-4h2v4z\"/>\n",
              "    </g>\n",
              "</svg>\n",
              "      </button>\n",
              "    </div>\n",
              "\n",
              "<style>\n",
              "  .colab-df-quickchart {\n",
              "    background-color: #E8F0FE;\n",
              "    border: none;\n",
              "    border-radius: 50%;\n",
              "    cursor: pointer;\n",
              "    display: none;\n",
              "    fill: #1967D2;\n",
              "    height: 32px;\n",
              "    padding: 0 0 0 0;\n",
              "    width: 32px;\n",
              "  }\n",
              "\n",
              "  .colab-df-quickchart:hover {\n",
              "    background-color: #E2EBFA;\n",
              "    box-shadow: 0px 1px 2px rgba(60, 64, 67, 0.3), 0px 1px 3px 1px rgba(60, 64, 67, 0.15);\n",
              "    fill: #174EA6;\n",
              "  }\n",
              "\n",
              "  [theme=dark] .colab-df-quickchart {\n",
              "    background-color: #3B4455;\n",
              "    fill: #D2E3FC;\n",
              "  }\n",
              "\n",
              "  [theme=dark] .colab-df-quickchart:hover {\n",
              "    background-color: #434B5C;\n",
              "    box-shadow: 0px 1px 3px 1px rgba(0, 0, 0, 0.15);\n",
              "    filter: drop-shadow(0px 1px 2px rgba(0, 0, 0, 0.3));\n",
              "    fill: #FFFFFF;\n",
              "  }\n",
              "</style>\n",
              "\n",
              "    <script>\n",
              "      async function quickchart(key) {\n",
              "        const containerElement = document.querySelector('#' + key);\n",
              "        const charts = await google.colab.kernel.invokeFunction(\n",
              "            'suggestCharts', [key], {});\n",
              "      }\n",
              "    </script>\n",
              "\n",
              "      <script>\n",
              "\n",
              "function displayQuickchartButton(domScope) {\n",
              "  let quickchartButtonEl =\n",
              "    domScope.querySelector('#df-b582fa6f-40f0-4ffc-b587-10a8656cd6f1 button.colab-df-quickchart');\n",
              "  quickchartButtonEl.style.display =\n",
              "    google.colab.kernel.accessAllowed ? 'block' : 'none';\n",
              "}\n",
              "\n",
              "        displayQuickchartButton(document);\n",
              "      </script>\n",
              "      <style>\n",
              "    .colab-df-container {\n",
              "      display:flex;\n",
              "      flex-wrap:wrap;\n",
              "      gap: 12px;\n",
              "    }\n",
              "\n",
              "    .colab-df-convert {\n",
              "      background-color: #E8F0FE;\n",
              "      border: none;\n",
              "      border-radius: 50%;\n",
              "      cursor: pointer;\n",
              "      display: none;\n",
              "      fill: #1967D2;\n",
              "      height: 32px;\n",
              "      padding: 0 0 0 0;\n",
              "      width: 32px;\n",
              "    }\n",
              "\n",
              "    .colab-df-convert:hover {\n",
              "      background-color: #E2EBFA;\n",
              "      box-shadow: 0px 1px 2px rgba(60, 64, 67, 0.3), 0px 1px 3px 1px rgba(60, 64, 67, 0.15);\n",
              "      fill: #174EA6;\n",
              "    }\n",
              "\n",
              "    [theme=dark] .colab-df-convert {\n",
              "      background-color: #3B4455;\n",
              "      fill: #D2E3FC;\n",
              "    }\n",
              "\n",
              "    [theme=dark] .colab-df-convert:hover {\n",
              "      background-color: #434B5C;\n",
              "      box-shadow: 0px 1px 3px 1px rgba(0, 0, 0, 0.15);\n",
              "      filter: drop-shadow(0px 1px 2px rgba(0, 0, 0, 0.3));\n",
              "      fill: #FFFFFF;\n",
              "    }\n",
              "  </style>\n",
              "\n",
              "      <script>\n",
              "        const buttonEl =\n",
              "          document.querySelector('#df-86c39b01-4516-4c5c-a340-907811223ead button.colab-df-convert');\n",
              "        buttonEl.style.display =\n",
              "          google.colab.kernel.accessAllowed ? 'block' : 'none';\n",
              "\n",
              "        async function convertToInteractive(key) {\n",
              "          const element = document.querySelector('#df-86c39b01-4516-4c5c-a340-907811223ead');\n",
              "          const dataTable =\n",
              "            await google.colab.kernel.invokeFunction('convertToInteractive',\n",
              "                                                     [key], {});\n",
              "          if (!dataTable) return;\n",
              "\n",
              "          const docLinkHtml = 'Like what you see? Visit the ' +\n",
              "            '<a target=\"_blank\" href=https://colab.research.google.com/notebooks/data_table.ipynb>data table notebook</a>'\n",
              "            + ' to learn more about interactive tables.';\n",
              "          element.innerHTML = '';\n",
              "          dataTable['output_type'] = 'display_data';\n",
              "          await google.colab.output.renderOutput(dataTable, element);\n",
              "          const docLink = document.createElement('div');\n",
              "          docLink.innerHTML = docLinkHtml;\n",
              "          element.appendChild(docLink);\n",
              "        }\n",
              "      </script>\n",
              "    </div>\n",
              "  </div>\n"
            ]
          },
          "metadata": {},
          "execution_count": 7
        }
      ]
    },
    {
      "cell_type": "markdown",
      "source": [
        "#Excelเดือนตุลา"
      ],
      "metadata": {
        "id": "lAqZ5362gocg"
      }
    },
    {
      "cell_type": "code",
      "source": [
        "import pandas as pd\n",
        "import os"
      ],
      "metadata": {
        "id": "xJ8ri7BTgiAa"
      },
      "execution_count": 8,
      "outputs": []
    },
    {
      "cell_type": "code",
      "source": [
        "from google.colab import drive\n",
        "drive.mount('/content/drive')"
      ],
      "metadata": {
        "id": "LsZnHSa6gzuU",
        "outputId": "3abad0be-85d9-4d44-c3cd-ec0d578f64d4",
        "colab": {
          "base_uri": "https://localhost:8080/"
        }
      },
      "execution_count": 9,
      "outputs": [
        {
          "output_type": "stream",
          "name": "stdout",
          "text": [
            "Drive already mounted at /content/drive; to attempt to forcibly remount, call drive.mount(\"/content/drive\", force_remount=True).\n"
          ]
        }
      ]
    },
    {
      "cell_type": "code",
      "source": [
        "dataoct= pd.read_excel('/content/drive/MyDrive/DataViz23Data/octorber.xlsx',header=9,skipfooter=27,)\n",
        "dataoct"
      ],
      "metadata": {
        "id": "NZRlsAMmg256",
        "outputId": "cb90ff79-91f9-498d-f3e2-25f2b8a901f9",
        "colab": {
          "base_uri": "https://localhost:8080/",
          "height": 343
        }
      },
      "execution_count": 10,
      "outputs": [
        {
          "output_type": "execute_result",
          "data": {
            "text/plain": [
              "                            รายการ      งบประมาณ  สำรองเงินมีหนี้          PO  \\\n",
              "0  งบประมาณรายจ่ายประจำปี พ.ศ.2565           NaN              NaN         NaN   \n",
              "1                           ภาพรวม  13003.023512              NaN  470.002649   \n",
              "2                            ประจำ   6822.811789              NaN   12.706842   \n",
              "3                            ลงทุน   6180.211723              NaN  457.295806   \n",
              "\n",
              "      เบิกจ่าย  ร้อยละ\\nเบิกจ่าย  เป้า\\nหมาย Q1  */- เป้าหมาย  \\\n",
              "0          NaN               NaN            NaN           NaN   \n",
              "1  5275.988084         40.575087           32.0      8.575087   \n",
              "2  3984.779058         58.403766           35.0     23.403766   \n",
              "3  1291.209026         20.892634           19.0      1.892634   \n",
              "\n",
              "   การใช้จ่าย (PO+เบิกจ่าย)  ร้อยละ\\nการใช้จ่าย  เป้า\\nหมาย Q1.1  \\\n",
              "0                       NaN                 NaN              NaN   \n",
              "1               5745.990733           44.189651            34.08   \n",
              "2               3997.485900           58.590007            35.33   \n",
              "3               1748.504832           28.291989            28.96   \n",
              "\n",
              "   */- เป้าหมาย.1  คงเหลือ\\nหลังหักใช้จ่าย  ลำดับเบิกจ่าย  ลำดับ\\nใช้จ่าย  \n",
              "0             NaN                      NaN            NaN             NaN  \n",
              "1       10.109651              7257.032779            2.0             2.0  \n",
              "2       23.260007              2825.325889            NaN             NaN  \n",
              "3       -0.668011              4431.706890            4.0             6.0  "
            ],
            "text/html": [
              "\n",
              "\n",
              "  <div id=\"df-7cb8a774-00c3-4b52-ba04-441ecf007603\">\n",
              "    <div class=\"colab-df-container\">\n",
              "      <div>\n",
              "<style scoped>\n",
              "    .dataframe tbody tr th:only-of-type {\n",
              "        vertical-align: middle;\n",
              "    }\n",
              "\n",
              "    .dataframe tbody tr th {\n",
              "        vertical-align: top;\n",
              "    }\n",
              "\n",
              "    .dataframe thead th {\n",
              "        text-align: right;\n",
              "    }\n",
              "</style>\n",
              "<table border=\"1\" class=\"dataframe\">\n",
              "  <thead>\n",
              "    <tr style=\"text-align: right;\">\n",
              "      <th></th>\n",
              "      <th>รายการ</th>\n",
              "      <th>งบประมาณ</th>\n",
              "      <th>สำรองเงินมีหนี้</th>\n",
              "      <th>PO</th>\n",
              "      <th>เบิกจ่าย</th>\n",
              "      <th>ร้อยละ\\nเบิกจ่าย</th>\n",
              "      <th>เป้า\\nหมาย Q1</th>\n",
              "      <th>*/- เป้าหมาย</th>\n",
              "      <th>การใช้จ่าย (PO+เบิกจ่าย)</th>\n",
              "      <th>ร้อยละ\\nการใช้จ่าย</th>\n",
              "      <th>เป้า\\nหมาย Q1.1</th>\n",
              "      <th>*/- เป้าหมาย.1</th>\n",
              "      <th>คงเหลือ\\nหลังหักใช้จ่าย</th>\n",
              "      <th>ลำดับเบิกจ่าย</th>\n",
              "      <th>ลำดับ\\nใช้จ่าย</th>\n",
              "    </tr>\n",
              "  </thead>\n",
              "  <tbody>\n",
              "    <tr>\n",
              "      <th>0</th>\n",
              "      <td>งบประมาณรายจ่ายประจำปี พ.ศ.2565</td>\n",
              "      <td>NaN</td>\n",
              "      <td>NaN</td>\n",
              "      <td>NaN</td>\n",
              "      <td>NaN</td>\n",
              "      <td>NaN</td>\n",
              "      <td>NaN</td>\n",
              "      <td>NaN</td>\n",
              "      <td>NaN</td>\n",
              "      <td>NaN</td>\n",
              "      <td>NaN</td>\n",
              "      <td>NaN</td>\n",
              "      <td>NaN</td>\n",
              "      <td>NaN</td>\n",
              "      <td>NaN</td>\n",
              "    </tr>\n",
              "    <tr>\n",
              "      <th>1</th>\n",
              "      <td>ภาพรวม</td>\n",
              "      <td>13003.023512</td>\n",
              "      <td>NaN</td>\n",
              "      <td>470.002649</td>\n",
              "      <td>5275.988084</td>\n",
              "      <td>40.575087</td>\n",
              "      <td>32.0</td>\n",
              "      <td>8.575087</td>\n",
              "      <td>5745.990733</td>\n",
              "      <td>44.189651</td>\n",
              "      <td>34.08</td>\n",
              "      <td>10.109651</td>\n",
              "      <td>7257.032779</td>\n",
              "      <td>2.0</td>\n",
              "      <td>2.0</td>\n",
              "    </tr>\n",
              "    <tr>\n",
              "      <th>2</th>\n",
              "      <td>ประจำ</td>\n",
              "      <td>6822.811789</td>\n",
              "      <td>NaN</td>\n",
              "      <td>12.706842</td>\n",
              "      <td>3984.779058</td>\n",
              "      <td>58.403766</td>\n",
              "      <td>35.0</td>\n",
              "      <td>23.403766</td>\n",
              "      <td>3997.485900</td>\n",
              "      <td>58.590007</td>\n",
              "      <td>35.33</td>\n",
              "      <td>23.260007</td>\n",
              "      <td>2825.325889</td>\n",
              "      <td>NaN</td>\n",
              "      <td>NaN</td>\n",
              "    </tr>\n",
              "    <tr>\n",
              "      <th>3</th>\n",
              "      <td>ลงทุน</td>\n",
              "      <td>6180.211723</td>\n",
              "      <td>NaN</td>\n",
              "      <td>457.295806</td>\n",
              "      <td>1291.209026</td>\n",
              "      <td>20.892634</td>\n",
              "      <td>19.0</td>\n",
              "      <td>1.892634</td>\n",
              "      <td>1748.504832</td>\n",
              "      <td>28.291989</td>\n",
              "      <td>28.96</td>\n",
              "      <td>-0.668011</td>\n",
              "      <td>4431.706890</td>\n",
              "      <td>4.0</td>\n",
              "      <td>6.0</td>\n",
              "    </tr>\n",
              "  </tbody>\n",
              "</table>\n",
              "</div>\n",
              "      <button class=\"colab-df-convert\" onclick=\"convertToInteractive('df-7cb8a774-00c3-4b52-ba04-441ecf007603')\"\n",
              "              title=\"Convert this dataframe to an interactive table.\"\n",
              "              style=\"display:none;\">\n",
              "\n",
              "  <svg xmlns=\"http://www.w3.org/2000/svg\" height=\"24px\"viewBox=\"0 0 24 24\"\n",
              "       width=\"24px\">\n",
              "    <path d=\"M0 0h24v24H0V0z\" fill=\"none\"/>\n",
              "    <path d=\"M18.56 5.44l.94 2.06.94-2.06 2.06-.94-2.06-.94-.94-2.06-.94 2.06-2.06.94zm-11 1L8.5 8.5l.94-2.06 2.06-.94-2.06-.94L8.5 2.5l-.94 2.06-2.06.94zm10 10l.94 2.06.94-2.06 2.06-.94-2.06-.94-.94-2.06-.94 2.06-2.06.94z\"/><path d=\"M17.41 7.96l-1.37-1.37c-.4-.4-.92-.59-1.43-.59-.52 0-1.04.2-1.43.59L10.3 9.45l-7.72 7.72c-.78.78-.78 2.05 0 2.83L4 21.41c.39.39.9.59 1.41.59.51 0 1.02-.2 1.41-.59l7.78-7.78 2.81-2.81c.8-.78.8-2.07 0-2.86zM5.41 20L4 18.59l7.72-7.72 1.47 1.35L5.41 20z\"/>\n",
              "  </svg>\n",
              "      </button>\n",
              "\n",
              "\n",
              "\n",
              "    <div id=\"df-0d1c4e98-3eb4-49dc-bf77-086e2805f7fb\">\n",
              "      <button class=\"colab-df-quickchart\" onclick=\"quickchart('df-0d1c4e98-3eb4-49dc-bf77-086e2805f7fb')\"\n",
              "              title=\"Suggest charts.\"\n",
              "              style=\"display:none;\">\n",
              "\n",
              "<svg xmlns=\"http://www.w3.org/2000/svg\" height=\"24px\"viewBox=\"0 0 24 24\"\n",
              "     width=\"24px\">\n",
              "    <g>\n",
              "        <path d=\"M19 3H5c-1.1 0-2 .9-2 2v14c0 1.1.9 2 2 2h14c1.1 0 2-.9 2-2V5c0-1.1-.9-2-2-2zM9 17H7v-7h2v7zm4 0h-2V7h2v10zm4 0h-2v-4h2v4z\"/>\n",
              "    </g>\n",
              "</svg>\n",
              "      </button>\n",
              "    </div>\n",
              "\n",
              "<style>\n",
              "  .colab-df-quickchart {\n",
              "    background-color: #E8F0FE;\n",
              "    border: none;\n",
              "    border-radius: 50%;\n",
              "    cursor: pointer;\n",
              "    display: none;\n",
              "    fill: #1967D2;\n",
              "    height: 32px;\n",
              "    padding: 0 0 0 0;\n",
              "    width: 32px;\n",
              "  }\n",
              "\n",
              "  .colab-df-quickchart:hover {\n",
              "    background-color: #E2EBFA;\n",
              "    box-shadow: 0px 1px 2px rgba(60, 64, 67, 0.3), 0px 1px 3px 1px rgba(60, 64, 67, 0.15);\n",
              "    fill: #174EA6;\n",
              "  }\n",
              "\n",
              "  [theme=dark] .colab-df-quickchart {\n",
              "    background-color: #3B4455;\n",
              "    fill: #D2E3FC;\n",
              "  }\n",
              "\n",
              "  [theme=dark] .colab-df-quickchart:hover {\n",
              "    background-color: #434B5C;\n",
              "    box-shadow: 0px 1px 3px 1px rgba(0, 0, 0, 0.15);\n",
              "    filter: drop-shadow(0px 1px 2px rgba(0, 0, 0, 0.3));\n",
              "    fill: #FFFFFF;\n",
              "  }\n",
              "</style>\n",
              "\n",
              "    <script>\n",
              "      async function quickchart(key) {\n",
              "        const containerElement = document.querySelector('#' + key);\n",
              "        const charts = await google.colab.kernel.invokeFunction(\n",
              "            'suggestCharts', [key], {});\n",
              "      }\n",
              "    </script>\n",
              "\n",
              "      <script>\n",
              "\n",
              "function displayQuickchartButton(domScope) {\n",
              "  let quickchartButtonEl =\n",
              "    domScope.querySelector('#df-0d1c4e98-3eb4-49dc-bf77-086e2805f7fb button.colab-df-quickchart');\n",
              "  quickchartButtonEl.style.display =\n",
              "    google.colab.kernel.accessAllowed ? 'block' : 'none';\n",
              "}\n",
              "\n",
              "        displayQuickchartButton(document);\n",
              "      </script>\n",
              "      <style>\n",
              "    .colab-df-container {\n",
              "      display:flex;\n",
              "      flex-wrap:wrap;\n",
              "      gap: 12px;\n",
              "    }\n",
              "\n",
              "    .colab-df-convert {\n",
              "      background-color: #E8F0FE;\n",
              "      border: none;\n",
              "      border-radius: 50%;\n",
              "      cursor: pointer;\n",
              "      display: none;\n",
              "      fill: #1967D2;\n",
              "      height: 32px;\n",
              "      padding: 0 0 0 0;\n",
              "      width: 32px;\n",
              "    }\n",
              "\n",
              "    .colab-df-convert:hover {\n",
              "      background-color: #E2EBFA;\n",
              "      box-shadow: 0px 1px 2px rgba(60, 64, 67, 0.3), 0px 1px 3px 1px rgba(60, 64, 67, 0.15);\n",
              "      fill: #174EA6;\n",
              "    }\n",
              "\n",
              "    [theme=dark] .colab-df-convert {\n",
              "      background-color: #3B4455;\n",
              "      fill: #D2E3FC;\n",
              "    }\n",
              "\n",
              "    [theme=dark] .colab-df-convert:hover {\n",
              "      background-color: #434B5C;\n",
              "      box-shadow: 0px 1px 3px 1px rgba(0, 0, 0, 0.15);\n",
              "      filter: drop-shadow(0px 1px 2px rgba(0, 0, 0, 0.3));\n",
              "      fill: #FFFFFF;\n",
              "    }\n",
              "  </style>\n",
              "\n",
              "      <script>\n",
              "        const buttonEl =\n",
              "          document.querySelector('#df-7cb8a774-00c3-4b52-ba04-441ecf007603 button.colab-df-convert');\n",
              "        buttonEl.style.display =\n",
              "          google.colab.kernel.accessAllowed ? 'block' : 'none';\n",
              "\n",
              "        async function convertToInteractive(key) {\n",
              "          const element = document.querySelector('#df-7cb8a774-00c3-4b52-ba04-441ecf007603');\n",
              "          const dataTable =\n",
              "            await google.colab.kernel.invokeFunction('convertToInteractive',\n",
              "                                                     [key], {});\n",
              "          if (!dataTable) return;\n",
              "\n",
              "          const docLinkHtml = 'Like what you see? Visit the ' +\n",
              "            '<a target=\"_blank\" href=https://colab.research.google.com/notebooks/data_table.ipynb>data table notebook</a>'\n",
              "            + ' to learn more about interactive tables.';\n",
              "          element.innerHTML = '';\n",
              "          dataTable['output_type'] = 'display_data';\n",
              "          await google.colab.output.renderOutput(dataTable, element);\n",
              "          const docLink = document.createElement('div');\n",
              "          docLink.innerHTML = docLinkHtml;\n",
              "          element.appendChild(docLink);\n",
              "        }\n",
              "      </script>\n",
              "    </div>\n",
              "  </div>\n"
            ]
          },
          "metadata": {},
          "execution_count": 10
        }
      ]
    },
    {
      "cell_type": "code",
      "source": [
        "dataoct = dataoct.iloc[-2:,:15]\n",
        "dataoct"
      ],
      "metadata": {
        "id": "F16AsGpRhI9X",
        "outputId": "26641c35-ba95-4100-d356-68ed2a4db553",
        "colab": {
          "base_uri": "https://localhost:8080/",
          "height": 211
        }
      },
      "execution_count": 11,
      "outputs": [
        {
          "output_type": "execute_result",
          "data": {
            "text/plain": [
              "  รายการ     งบประมาณ  สำรองเงินมีหนี้          PO     เบิกจ่าย  \\\n",
              "2  ประจำ  6822.811789              NaN   12.706842  3984.779058   \n",
              "3  ลงทุน  6180.211723              NaN  457.295806  1291.209026   \n",
              "\n",
              "   ร้อยละ\\nเบิกจ่าย  เป้า\\nหมาย Q1  */- เป้าหมาย  การใช้จ่าย (PO+เบิกจ่าย)  \\\n",
              "2         58.403766           35.0     23.403766               3997.485900   \n",
              "3         20.892634           19.0      1.892634               1748.504832   \n",
              "\n",
              "   ร้อยละ\\nการใช้จ่าย  เป้า\\nหมาย Q1.1  */- เป้าหมาย.1  \\\n",
              "2           58.590007            35.33       23.260007   \n",
              "3           28.291989            28.96       -0.668011   \n",
              "\n",
              "   คงเหลือ\\nหลังหักใช้จ่าย  ลำดับเบิกจ่าย  ลำดับ\\nใช้จ่าย  \n",
              "2              2825.325889            NaN             NaN  \n",
              "3              4431.706890            4.0             6.0  "
            ],
            "text/html": [
              "\n",
              "\n",
              "  <div id=\"df-c2c0ba44-d82e-43ea-bd41-66368b8a0544\">\n",
              "    <div class=\"colab-df-container\">\n",
              "      <div>\n",
              "<style scoped>\n",
              "    .dataframe tbody tr th:only-of-type {\n",
              "        vertical-align: middle;\n",
              "    }\n",
              "\n",
              "    .dataframe tbody tr th {\n",
              "        vertical-align: top;\n",
              "    }\n",
              "\n",
              "    .dataframe thead th {\n",
              "        text-align: right;\n",
              "    }\n",
              "</style>\n",
              "<table border=\"1\" class=\"dataframe\">\n",
              "  <thead>\n",
              "    <tr style=\"text-align: right;\">\n",
              "      <th></th>\n",
              "      <th>รายการ</th>\n",
              "      <th>งบประมาณ</th>\n",
              "      <th>สำรองเงินมีหนี้</th>\n",
              "      <th>PO</th>\n",
              "      <th>เบิกจ่าย</th>\n",
              "      <th>ร้อยละ\\nเบิกจ่าย</th>\n",
              "      <th>เป้า\\nหมาย Q1</th>\n",
              "      <th>*/- เป้าหมาย</th>\n",
              "      <th>การใช้จ่าย (PO+เบิกจ่าย)</th>\n",
              "      <th>ร้อยละ\\nการใช้จ่าย</th>\n",
              "      <th>เป้า\\nหมาย Q1.1</th>\n",
              "      <th>*/- เป้าหมาย.1</th>\n",
              "      <th>คงเหลือ\\nหลังหักใช้จ่าย</th>\n",
              "      <th>ลำดับเบิกจ่าย</th>\n",
              "      <th>ลำดับ\\nใช้จ่าย</th>\n",
              "    </tr>\n",
              "  </thead>\n",
              "  <tbody>\n",
              "    <tr>\n",
              "      <th>2</th>\n",
              "      <td>ประจำ</td>\n",
              "      <td>6822.811789</td>\n",
              "      <td>NaN</td>\n",
              "      <td>12.706842</td>\n",
              "      <td>3984.779058</td>\n",
              "      <td>58.403766</td>\n",
              "      <td>35.0</td>\n",
              "      <td>23.403766</td>\n",
              "      <td>3997.485900</td>\n",
              "      <td>58.590007</td>\n",
              "      <td>35.33</td>\n",
              "      <td>23.260007</td>\n",
              "      <td>2825.325889</td>\n",
              "      <td>NaN</td>\n",
              "      <td>NaN</td>\n",
              "    </tr>\n",
              "    <tr>\n",
              "      <th>3</th>\n",
              "      <td>ลงทุน</td>\n",
              "      <td>6180.211723</td>\n",
              "      <td>NaN</td>\n",
              "      <td>457.295806</td>\n",
              "      <td>1291.209026</td>\n",
              "      <td>20.892634</td>\n",
              "      <td>19.0</td>\n",
              "      <td>1.892634</td>\n",
              "      <td>1748.504832</td>\n",
              "      <td>28.291989</td>\n",
              "      <td>28.96</td>\n",
              "      <td>-0.668011</td>\n",
              "      <td>4431.706890</td>\n",
              "      <td>4.0</td>\n",
              "      <td>6.0</td>\n",
              "    </tr>\n",
              "  </tbody>\n",
              "</table>\n",
              "</div>\n",
              "      <button class=\"colab-df-convert\" onclick=\"convertToInteractive('df-c2c0ba44-d82e-43ea-bd41-66368b8a0544')\"\n",
              "              title=\"Convert this dataframe to an interactive table.\"\n",
              "              style=\"display:none;\">\n",
              "\n",
              "  <svg xmlns=\"http://www.w3.org/2000/svg\" height=\"24px\"viewBox=\"0 0 24 24\"\n",
              "       width=\"24px\">\n",
              "    <path d=\"M0 0h24v24H0V0z\" fill=\"none\"/>\n",
              "    <path d=\"M18.56 5.44l.94 2.06.94-2.06 2.06-.94-2.06-.94-.94-2.06-.94 2.06-2.06.94zm-11 1L8.5 8.5l.94-2.06 2.06-.94-2.06-.94L8.5 2.5l-.94 2.06-2.06.94zm10 10l.94 2.06.94-2.06 2.06-.94-2.06-.94-.94-2.06-.94 2.06-2.06.94z\"/><path d=\"M17.41 7.96l-1.37-1.37c-.4-.4-.92-.59-1.43-.59-.52 0-1.04.2-1.43.59L10.3 9.45l-7.72 7.72c-.78.78-.78 2.05 0 2.83L4 21.41c.39.39.9.59 1.41.59.51 0 1.02-.2 1.41-.59l7.78-7.78 2.81-2.81c.8-.78.8-2.07 0-2.86zM5.41 20L4 18.59l7.72-7.72 1.47 1.35L5.41 20z\"/>\n",
              "  </svg>\n",
              "      </button>\n",
              "\n",
              "\n",
              "\n",
              "    <div id=\"df-e8d1c74b-777c-442a-ada8-c6a44344fdba\">\n",
              "      <button class=\"colab-df-quickchart\" onclick=\"quickchart('df-e8d1c74b-777c-442a-ada8-c6a44344fdba')\"\n",
              "              title=\"Suggest charts.\"\n",
              "              style=\"display:none;\">\n",
              "\n",
              "<svg xmlns=\"http://www.w3.org/2000/svg\" height=\"24px\"viewBox=\"0 0 24 24\"\n",
              "     width=\"24px\">\n",
              "    <g>\n",
              "        <path d=\"M19 3H5c-1.1 0-2 .9-2 2v14c0 1.1.9 2 2 2h14c1.1 0 2-.9 2-2V5c0-1.1-.9-2-2-2zM9 17H7v-7h2v7zm4 0h-2V7h2v10zm4 0h-2v-4h2v4z\"/>\n",
              "    </g>\n",
              "</svg>\n",
              "      </button>\n",
              "    </div>\n",
              "\n",
              "<style>\n",
              "  .colab-df-quickchart {\n",
              "    background-color: #E8F0FE;\n",
              "    border: none;\n",
              "    border-radius: 50%;\n",
              "    cursor: pointer;\n",
              "    display: none;\n",
              "    fill: #1967D2;\n",
              "    height: 32px;\n",
              "    padding: 0 0 0 0;\n",
              "    width: 32px;\n",
              "  }\n",
              "\n",
              "  .colab-df-quickchart:hover {\n",
              "    background-color: #E2EBFA;\n",
              "    box-shadow: 0px 1px 2px rgba(60, 64, 67, 0.3), 0px 1px 3px 1px rgba(60, 64, 67, 0.15);\n",
              "    fill: #174EA6;\n",
              "  }\n",
              "\n",
              "  [theme=dark] .colab-df-quickchart {\n",
              "    background-color: #3B4455;\n",
              "    fill: #D2E3FC;\n",
              "  }\n",
              "\n",
              "  [theme=dark] .colab-df-quickchart:hover {\n",
              "    background-color: #434B5C;\n",
              "    box-shadow: 0px 1px 3px 1px rgba(0, 0, 0, 0.15);\n",
              "    filter: drop-shadow(0px 1px 2px rgba(0, 0, 0, 0.3));\n",
              "    fill: #FFFFFF;\n",
              "  }\n",
              "</style>\n",
              "\n",
              "    <script>\n",
              "      async function quickchart(key) {\n",
              "        const containerElement = document.querySelector('#' + key);\n",
              "        const charts = await google.colab.kernel.invokeFunction(\n",
              "            'suggestCharts', [key], {});\n",
              "      }\n",
              "    </script>\n",
              "\n",
              "      <script>\n",
              "\n",
              "function displayQuickchartButton(domScope) {\n",
              "  let quickchartButtonEl =\n",
              "    domScope.querySelector('#df-e8d1c74b-777c-442a-ada8-c6a44344fdba button.colab-df-quickchart');\n",
              "  quickchartButtonEl.style.display =\n",
              "    google.colab.kernel.accessAllowed ? 'block' : 'none';\n",
              "}\n",
              "\n",
              "        displayQuickchartButton(document);\n",
              "      </script>\n",
              "      <style>\n",
              "    .colab-df-container {\n",
              "      display:flex;\n",
              "      flex-wrap:wrap;\n",
              "      gap: 12px;\n",
              "    }\n",
              "\n",
              "    .colab-df-convert {\n",
              "      background-color: #E8F0FE;\n",
              "      border: none;\n",
              "      border-radius: 50%;\n",
              "      cursor: pointer;\n",
              "      display: none;\n",
              "      fill: #1967D2;\n",
              "      height: 32px;\n",
              "      padding: 0 0 0 0;\n",
              "      width: 32px;\n",
              "    }\n",
              "\n",
              "    .colab-df-convert:hover {\n",
              "      background-color: #E2EBFA;\n",
              "      box-shadow: 0px 1px 2px rgba(60, 64, 67, 0.3), 0px 1px 3px 1px rgba(60, 64, 67, 0.15);\n",
              "      fill: #174EA6;\n",
              "    }\n",
              "\n",
              "    [theme=dark] .colab-df-convert {\n",
              "      background-color: #3B4455;\n",
              "      fill: #D2E3FC;\n",
              "    }\n",
              "\n",
              "    [theme=dark] .colab-df-convert:hover {\n",
              "      background-color: #434B5C;\n",
              "      box-shadow: 0px 1px 3px 1px rgba(0, 0, 0, 0.15);\n",
              "      filter: drop-shadow(0px 1px 2px rgba(0, 0, 0, 0.3));\n",
              "      fill: #FFFFFF;\n",
              "    }\n",
              "  </style>\n",
              "\n",
              "      <script>\n",
              "        const buttonEl =\n",
              "          document.querySelector('#df-c2c0ba44-d82e-43ea-bd41-66368b8a0544 button.colab-df-convert');\n",
              "        buttonEl.style.display =\n",
              "          google.colab.kernel.accessAllowed ? 'block' : 'none';\n",
              "\n",
              "        async function convertToInteractive(key) {\n",
              "          const element = document.querySelector('#df-c2c0ba44-d82e-43ea-bd41-66368b8a0544');\n",
              "          const dataTable =\n",
              "            await google.colab.kernel.invokeFunction('convertToInteractive',\n",
              "                                                     [key], {});\n",
              "          if (!dataTable) return;\n",
              "\n",
              "          const docLinkHtml = 'Like what you see? Visit the ' +\n",
              "            '<a target=\"_blank\" href=https://colab.research.google.com/notebooks/data_table.ipynb>data table notebook</a>'\n",
              "            + ' to learn more about interactive tables.';\n",
              "          element.innerHTML = '';\n",
              "          dataTable['output_type'] = 'display_data';\n",
              "          await google.colab.output.renderOutput(dataTable, element);\n",
              "          const docLink = document.createElement('div');\n",
              "          docLink.innerHTML = docLinkHtml;\n",
              "          element.appendChild(docLink);\n",
              "        }\n",
              "      </script>\n",
              "    </div>\n",
              "  </div>\n"
            ]
          },
          "metadata": {},
          "execution_count": 11
        }
      ]
    },
    {
      "cell_type": "code",
      "source": [
        "dataoct['เดือน-ปี']=len(dataoct)*['oct-65']\n",
        "dataoct"
      ],
      "metadata": {
        "id": "nevH9aeqhOkT",
        "outputId": "0127b1c3-7e04-4611-c42c-61907b4a831f",
        "colab": {
          "base_uri": "https://localhost:8080/",
          "height": 211
        }
      },
      "execution_count": 12,
      "outputs": [
        {
          "output_type": "execute_result",
          "data": {
            "text/plain": [
              "  รายการ     งบประมาณ  สำรองเงินมีหนี้          PO     เบิกจ่าย  \\\n",
              "2  ประจำ  6822.811789              NaN   12.706842  3984.779058   \n",
              "3  ลงทุน  6180.211723              NaN  457.295806  1291.209026   \n",
              "\n",
              "   ร้อยละ\\nเบิกจ่าย  เป้า\\nหมาย Q1  */- เป้าหมาย  การใช้จ่าย (PO+เบิกจ่าย)  \\\n",
              "2         58.403766           35.0     23.403766               3997.485900   \n",
              "3         20.892634           19.0      1.892634               1748.504832   \n",
              "\n",
              "   ร้อยละ\\nการใช้จ่าย  เป้า\\nหมาย Q1.1  */- เป้าหมาย.1  \\\n",
              "2           58.590007            35.33       23.260007   \n",
              "3           28.291989            28.96       -0.668011   \n",
              "\n",
              "   คงเหลือ\\nหลังหักใช้จ่าย  ลำดับเบิกจ่าย  ลำดับ\\nใช้จ่าย เดือน-ปี  \n",
              "2              2825.325889            NaN             NaN   oct-65  \n",
              "3              4431.706890            4.0             6.0   oct-65  "
            ],
            "text/html": [
              "\n",
              "\n",
              "  <div id=\"df-a5c2abb5-f0b2-4bb9-a6f7-73614fb9abe2\">\n",
              "    <div class=\"colab-df-container\">\n",
              "      <div>\n",
              "<style scoped>\n",
              "    .dataframe tbody tr th:only-of-type {\n",
              "        vertical-align: middle;\n",
              "    }\n",
              "\n",
              "    .dataframe tbody tr th {\n",
              "        vertical-align: top;\n",
              "    }\n",
              "\n",
              "    .dataframe thead th {\n",
              "        text-align: right;\n",
              "    }\n",
              "</style>\n",
              "<table border=\"1\" class=\"dataframe\">\n",
              "  <thead>\n",
              "    <tr style=\"text-align: right;\">\n",
              "      <th></th>\n",
              "      <th>รายการ</th>\n",
              "      <th>งบประมาณ</th>\n",
              "      <th>สำรองเงินมีหนี้</th>\n",
              "      <th>PO</th>\n",
              "      <th>เบิกจ่าย</th>\n",
              "      <th>ร้อยละ\\nเบิกจ่าย</th>\n",
              "      <th>เป้า\\nหมาย Q1</th>\n",
              "      <th>*/- เป้าหมาย</th>\n",
              "      <th>การใช้จ่าย (PO+เบิกจ่าย)</th>\n",
              "      <th>ร้อยละ\\nการใช้จ่าย</th>\n",
              "      <th>เป้า\\nหมาย Q1.1</th>\n",
              "      <th>*/- เป้าหมาย.1</th>\n",
              "      <th>คงเหลือ\\nหลังหักใช้จ่าย</th>\n",
              "      <th>ลำดับเบิกจ่าย</th>\n",
              "      <th>ลำดับ\\nใช้จ่าย</th>\n",
              "      <th>เดือน-ปี</th>\n",
              "    </tr>\n",
              "  </thead>\n",
              "  <tbody>\n",
              "    <tr>\n",
              "      <th>2</th>\n",
              "      <td>ประจำ</td>\n",
              "      <td>6822.811789</td>\n",
              "      <td>NaN</td>\n",
              "      <td>12.706842</td>\n",
              "      <td>3984.779058</td>\n",
              "      <td>58.403766</td>\n",
              "      <td>35.0</td>\n",
              "      <td>23.403766</td>\n",
              "      <td>3997.485900</td>\n",
              "      <td>58.590007</td>\n",
              "      <td>35.33</td>\n",
              "      <td>23.260007</td>\n",
              "      <td>2825.325889</td>\n",
              "      <td>NaN</td>\n",
              "      <td>NaN</td>\n",
              "      <td>oct-65</td>\n",
              "    </tr>\n",
              "    <tr>\n",
              "      <th>3</th>\n",
              "      <td>ลงทุน</td>\n",
              "      <td>6180.211723</td>\n",
              "      <td>NaN</td>\n",
              "      <td>457.295806</td>\n",
              "      <td>1291.209026</td>\n",
              "      <td>20.892634</td>\n",
              "      <td>19.0</td>\n",
              "      <td>1.892634</td>\n",
              "      <td>1748.504832</td>\n",
              "      <td>28.291989</td>\n",
              "      <td>28.96</td>\n",
              "      <td>-0.668011</td>\n",
              "      <td>4431.706890</td>\n",
              "      <td>4.0</td>\n",
              "      <td>6.0</td>\n",
              "      <td>oct-65</td>\n",
              "    </tr>\n",
              "  </tbody>\n",
              "</table>\n",
              "</div>\n",
              "      <button class=\"colab-df-convert\" onclick=\"convertToInteractive('df-a5c2abb5-f0b2-4bb9-a6f7-73614fb9abe2')\"\n",
              "              title=\"Convert this dataframe to an interactive table.\"\n",
              "              style=\"display:none;\">\n",
              "\n",
              "  <svg xmlns=\"http://www.w3.org/2000/svg\" height=\"24px\"viewBox=\"0 0 24 24\"\n",
              "       width=\"24px\">\n",
              "    <path d=\"M0 0h24v24H0V0z\" fill=\"none\"/>\n",
              "    <path d=\"M18.56 5.44l.94 2.06.94-2.06 2.06-.94-2.06-.94-.94-2.06-.94 2.06-2.06.94zm-11 1L8.5 8.5l.94-2.06 2.06-.94-2.06-.94L8.5 2.5l-.94 2.06-2.06.94zm10 10l.94 2.06.94-2.06 2.06-.94-2.06-.94-.94-2.06-.94 2.06-2.06.94z\"/><path d=\"M17.41 7.96l-1.37-1.37c-.4-.4-.92-.59-1.43-.59-.52 0-1.04.2-1.43.59L10.3 9.45l-7.72 7.72c-.78.78-.78 2.05 0 2.83L4 21.41c.39.39.9.59 1.41.59.51 0 1.02-.2 1.41-.59l7.78-7.78 2.81-2.81c.8-.78.8-2.07 0-2.86zM5.41 20L4 18.59l7.72-7.72 1.47 1.35L5.41 20z\"/>\n",
              "  </svg>\n",
              "      </button>\n",
              "\n",
              "\n",
              "\n",
              "    <div id=\"df-b6f019a1-aae6-4045-b1f9-07063835d890\">\n",
              "      <button class=\"colab-df-quickchart\" onclick=\"quickchart('df-b6f019a1-aae6-4045-b1f9-07063835d890')\"\n",
              "              title=\"Suggest charts.\"\n",
              "              style=\"display:none;\">\n",
              "\n",
              "<svg xmlns=\"http://www.w3.org/2000/svg\" height=\"24px\"viewBox=\"0 0 24 24\"\n",
              "     width=\"24px\">\n",
              "    <g>\n",
              "        <path d=\"M19 3H5c-1.1 0-2 .9-2 2v14c0 1.1.9 2 2 2h14c1.1 0 2-.9 2-2V5c0-1.1-.9-2-2-2zM9 17H7v-7h2v7zm4 0h-2V7h2v10zm4 0h-2v-4h2v4z\"/>\n",
              "    </g>\n",
              "</svg>\n",
              "      </button>\n",
              "    </div>\n",
              "\n",
              "<style>\n",
              "  .colab-df-quickchart {\n",
              "    background-color: #E8F0FE;\n",
              "    border: none;\n",
              "    border-radius: 50%;\n",
              "    cursor: pointer;\n",
              "    display: none;\n",
              "    fill: #1967D2;\n",
              "    height: 32px;\n",
              "    padding: 0 0 0 0;\n",
              "    width: 32px;\n",
              "  }\n",
              "\n",
              "  .colab-df-quickchart:hover {\n",
              "    background-color: #E2EBFA;\n",
              "    box-shadow: 0px 1px 2px rgba(60, 64, 67, 0.3), 0px 1px 3px 1px rgba(60, 64, 67, 0.15);\n",
              "    fill: #174EA6;\n",
              "  }\n",
              "\n",
              "  [theme=dark] .colab-df-quickchart {\n",
              "    background-color: #3B4455;\n",
              "    fill: #D2E3FC;\n",
              "  }\n",
              "\n",
              "  [theme=dark] .colab-df-quickchart:hover {\n",
              "    background-color: #434B5C;\n",
              "    box-shadow: 0px 1px 3px 1px rgba(0, 0, 0, 0.15);\n",
              "    filter: drop-shadow(0px 1px 2px rgba(0, 0, 0, 0.3));\n",
              "    fill: #FFFFFF;\n",
              "  }\n",
              "</style>\n",
              "\n",
              "    <script>\n",
              "      async function quickchart(key) {\n",
              "        const containerElement = document.querySelector('#' + key);\n",
              "        const charts = await google.colab.kernel.invokeFunction(\n",
              "            'suggestCharts', [key], {});\n",
              "      }\n",
              "    </script>\n",
              "\n",
              "      <script>\n",
              "\n",
              "function displayQuickchartButton(domScope) {\n",
              "  let quickchartButtonEl =\n",
              "    domScope.querySelector('#df-b6f019a1-aae6-4045-b1f9-07063835d890 button.colab-df-quickchart');\n",
              "  quickchartButtonEl.style.display =\n",
              "    google.colab.kernel.accessAllowed ? 'block' : 'none';\n",
              "}\n",
              "\n",
              "        displayQuickchartButton(document);\n",
              "      </script>\n",
              "      <style>\n",
              "    .colab-df-container {\n",
              "      display:flex;\n",
              "      flex-wrap:wrap;\n",
              "      gap: 12px;\n",
              "    }\n",
              "\n",
              "    .colab-df-convert {\n",
              "      background-color: #E8F0FE;\n",
              "      border: none;\n",
              "      border-radius: 50%;\n",
              "      cursor: pointer;\n",
              "      display: none;\n",
              "      fill: #1967D2;\n",
              "      height: 32px;\n",
              "      padding: 0 0 0 0;\n",
              "      width: 32px;\n",
              "    }\n",
              "\n",
              "    .colab-df-convert:hover {\n",
              "      background-color: #E2EBFA;\n",
              "      box-shadow: 0px 1px 2px rgba(60, 64, 67, 0.3), 0px 1px 3px 1px rgba(60, 64, 67, 0.15);\n",
              "      fill: #174EA6;\n",
              "    }\n",
              "\n",
              "    [theme=dark] .colab-df-convert {\n",
              "      background-color: #3B4455;\n",
              "      fill: #D2E3FC;\n",
              "    }\n",
              "\n",
              "    [theme=dark] .colab-df-convert:hover {\n",
              "      background-color: #434B5C;\n",
              "      box-shadow: 0px 1px 3px 1px rgba(0, 0, 0, 0.15);\n",
              "      filter: drop-shadow(0px 1px 2px rgba(0, 0, 0, 0.3));\n",
              "      fill: #FFFFFF;\n",
              "    }\n",
              "  </style>\n",
              "\n",
              "      <script>\n",
              "        const buttonEl =\n",
              "          document.querySelector('#df-a5c2abb5-f0b2-4bb9-a6f7-73614fb9abe2 button.colab-df-convert');\n",
              "        buttonEl.style.display =\n",
              "          google.colab.kernel.accessAllowed ? 'block' : 'none';\n",
              "\n",
              "        async function convertToInteractive(key) {\n",
              "          const element = document.querySelector('#df-a5c2abb5-f0b2-4bb9-a6f7-73614fb9abe2');\n",
              "          const dataTable =\n",
              "            await google.colab.kernel.invokeFunction('convertToInteractive',\n",
              "                                                     [key], {});\n",
              "          if (!dataTable) return;\n",
              "\n",
              "          const docLinkHtml = 'Like what you see? Visit the ' +\n",
              "            '<a target=\"_blank\" href=https://colab.research.google.com/notebooks/data_table.ipynb>data table notebook</a>'\n",
              "            + ' to learn more about interactive tables.';\n",
              "          element.innerHTML = '';\n",
              "          dataTable['output_type'] = 'display_data';\n",
              "          await google.colab.output.renderOutput(dataTable, element);\n",
              "          const docLink = document.createElement('div');\n",
              "          docLink.innerHTML = docLinkHtml;\n",
              "          element.appendChild(docLink);\n",
              "        }\n",
              "      </script>\n",
              "    </div>\n",
              "  </div>\n"
            ]
          },
          "metadata": {},
          "execution_count": 12
        }
      ]
    },
    {
      "cell_type": "markdown",
      "source": [
        "#ต่อตารางแกนy(แกนrows)"
      ],
      "metadata": {
        "id": "4rtbzXQjicZg"
      }
    },
    {
      "cell_type": "code",
      "source": [
        "datasep_oct = pd.concat((datasep,dataoct))\n",
        "datasep_oct"
      ],
      "metadata": {
        "id": "_SHL42nkiqHS",
        "outputId": "1b0e2ce9-7386-4d56-a20b-badbedb92f7a",
        "colab": {
          "base_uri": "https://localhost:8080/",
          "height": 308
        }
      },
      "execution_count": 13,
      "outputs": [
        {
          "output_type": "execute_result",
          "data": {
            "text/plain": [
              "  รายการ      งบประมาณ  สำรองเงินมีหนี้            PO      เบิกจ่าย  \\\n",
              "2  ประจำ  1.892013e+10     7.925745e+07  7.131600e+07  1.880196e+10   \n",
              "3  ลงทุน  9.605258e+09     2.683430e+08  1.119320e+09  8.201965e+09   \n",
              "2  ประจำ  6.822812e+03              NaN  1.270684e+01  3.984779e+03   \n",
              "3  ลงทุน  6.180212e+03              NaN  4.572958e+02  1.291209e+03   \n",
              "\n",
              "   ร้อยละ\\nเบิกจ่าย  เป้า\\nหมาย Q4  */- เป้าหมาย  การใช้จ่าย (PO+เบิกจ่าย)  \\\n",
              "2         99.375405           98.0      1.375405              1.895253e+10   \n",
              "3         85.390363           75.0     10.390363              9.589628e+09   \n",
              "2         58.403766            NaN     23.403766              3.997486e+03   \n",
              "3         20.892634            NaN      1.892634              1.748505e+03   \n",
              "\n",
              "   ร้อยละ\\nการใช้จ่าย  เป้า\\nหมาย Q4.1  */- เป้าหมาย.1  \\\n",
              "2          100.171242            100.0        0.171242   \n",
              "3           99.837275            100.0       -0.162725   \n",
              "2           58.590007              NaN       23.260007   \n",
              "3           28.291989              NaN       -0.668011   \n",
              "\n",
              "   คงเหลือ\\nหลังหักใช้จ่าย  ลำดับเบิกจ่าย  ลำดับ\\nใช้จ่าย เดือน-ปี  \\\n",
              "2            -3.239918e+07            NaN             NaN   sep-65   \n",
              "3             1.563013e+07            6.0            15.0   sep-65   \n",
              "2             2.825326e+03            NaN             NaN   oct-65   \n",
              "3             4.431707e+03            4.0             6.0   oct-65   \n",
              "\n",
              "   เป้า\\nหมาย Q1  เป้า\\nหมาย Q1.1  \n",
              "2            NaN              NaN  \n",
              "3            NaN              NaN  \n",
              "2           35.0            35.33  \n",
              "3           19.0            28.96  "
            ],
            "text/html": [
              "\n",
              "\n",
              "  <div id=\"df-80f305d2-66d8-42d9-b399-a9af6409102a\">\n",
              "    <div class=\"colab-df-container\">\n",
              "      <div>\n",
              "<style scoped>\n",
              "    .dataframe tbody tr th:only-of-type {\n",
              "        vertical-align: middle;\n",
              "    }\n",
              "\n",
              "    .dataframe tbody tr th {\n",
              "        vertical-align: top;\n",
              "    }\n",
              "\n",
              "    .dataframe thead th {\n",
              "        text-align: right;\n",
              "    }\n",
              "</style>\n",
              "<table border=\"1\" class=\"dataframe\">\n",
              "  <thead>\n",
              "    <tr style=\"text-align: right;\">\n",
              "      <th></th>\n",
              "      <th>รายการ</th>\n",
              "      <th>งบประมาณ</th>\n",
              "      <th>สำรองเงินมีหนี้</th>\n",
              "      <th>PO</th>\n",
              "      <th>เบิกจ่าย</th>\n",
              "      <th>ร้อยละ\\nเบิกจ่าย</th>\n",
              "      <th>เป้า\\nหมาย Q4</th>\n",
              "      <th>*/- เป้าหมาย</th>\n",
              "      <th>การใช้จ่าย (PO+เบิกจ่าย)</th>\n",
              "      <th>ร้อยละ\\nการใช้จ่าย</th>\n",
              "      <th>เป้า\\nหมาย Q4.1</th>\n",
              "      <th>*/- เป้าหมาย.1</th>\n",
              "      <th>คงเหลือ\\nหลังหักใช้จ่าย</th>\n",
              "      <th>ลำดับเบิกจ่าย</th>\n",
              "      <th>ลำดับ\\nใช้จ่าย</th>\n",
              "      <th>เดือน-ปี</th>\n",
              "      <th>เป้า\\nหมาย Q1</th>\n",
              "      <th>เป้า\\nหมาย Q1.1</th>\n",
              "    </tr>\n",
              "  </thead>\n",
              "  <tbody>\n",
              "    <tr>\n",
              "      <th>2</th>\n",
              "      <td>ประจำ</td>\n",
              "      <td>1.892013e+10</td>\n",
              "      <td>7.925745e+07</td>\n",
              "      <td>7.131600e+07</td>\n",
              "      <td>1.880196e+10</td>\n",
              "      <td>99.375405</td>\n",
              "      <td>98.0</td>\n",
              "      <td>1.375405</td>\n",
              "      <td>1.895253e+10</td>\n",
              "      <td>100.171242</td>\n",
              "      <td>100.0</td>\n",
              "      <td>0.171242</td>\n",
              "      <td>-3.239918e+07</td>\n",
              "      <td>NaN</td>\n",
              "      <td>NaN</td>\n",
              "      <td>sep-65</td>\n",
              "      <td>NaN</td>\n",
              "      <td>NaN</td>\n",
              "    </tr>\n",
              "    <tr>\n",
              "      <th>3</th>\n",
              "      <td>ลงทุน</td>\n",
              "      <td>9.605258e+09</td>\n",
              "      <td>2.683430e+08</td>\n",
              "      <td>1.119320e+09</td>\n",
              "      <td>8.201965e+09</td>\n",
              "      <td>85.390363</td>\n",
              "      <td>75.0</td>\n",
              "      <td>10.390363</td>\n",
              "      <td>9.589628e+09</td>\n",
              "      <td>99.837275</td>\n",
              "      <td>100.0</td>\n",
              "      <td>-0.162725</td>\n",
              "      <td>1.563013e+07</td>\n",
              "      <td>6.0</td>\n",
              "      <td>15.0</td>\n",
              "      <td>sep-65</td>\n",
              "      <td>NaN</td>\n",
              "      <td>NaN</td>\n",
              "    </tr>\n",
              "    <tr>\n",
              "      <th>2</th>\n",
              "      <td>ประจำ</td>\n",
              "      <td>6.822812e+03</td>\n",
              "      <td>NaN</td>\n",
              "      <td>1.270684e+01</td>\n",
              "      <td>3.984779e+03</td>\n",
              "      <td>58.403766</td>\n",
              "      <td>NaN</td>\n",
              "      <td>23.403766</td>\n",
              "      <td>3.997486e+03</td>\n",
              "      <td>58.590007</td>\n",
              "      <td>NaN</td>\n",
              "      <td>23.260007</td>\n",
              "      <td>2.825326e+03</td>\n",
              "      <td>NaN</td>\n",
              "      <td>NaN</td>\n",
              "      <td>oct-65</td>\n",
              "      <td>35.0</td>\n",
              "      <td>35.33</td>\n",
              "    </tr>\n",
              "    <tr>\n",
              "      <th>3</th>\n",
              "      <td>ลงทุน</td>\n",
              "      <td>6.180212e+03</td>\n",
              "      <td>NaN</td>\n",
              "      <td>4.572958e+02</td>\n",
              "      <td>1.291209e+03</td>\n",
              "      <td>20.892634</td>\n",
              "      <td>NaN</td>\n",
              "      <td>1.892634</td>\n",
              "      <td>1.748505e+03</td>\n",
              "      <td>28.291989</td>\n",
              "      <td>NaN</td>\n",
              "      <td>-0.668011</td>\n",
              "      <td>4.431707e+03</td>\n",
              "      <td>4.0</td>\n",
              "      <td>6.0</td>\n",
              "      <td>oct-65</td>\n",
              "      <td>19.0</td>\n",
              "      <td>28.96</td>\n",
              "    </tr>\n",
              "  </tbody>\n",
              "</table>\n",
              "</div>\n",
              "      <button class=\"colab-df-convert\" onclick=\"convertToInteractive('df-80f305d2-66d8-42d9-b399-a9af6409102a')\"\n",
              "              title=\"Convert this dataframe to an interactive table.\"\n",
              "              style=\"display:none;\">\n",
              "\n",
              "  <svg xmlns=\"http://www.w3.org/2000/svg\" height=\"24px\"viewBox=\"0 0 24 24\"\n",
              "       width=\"24px\">\n",
              "    <path d=\"M0 0h24v24H0V0z\" fill=\"none\"/>\n",
              "    <path d=\"M18.56 5.44l.94 2.06.94-2.06 2.06-.94-2.06-.94-.94-2.06-.94 2.06-2.06.94zm-11 1L8.5 8.5l.94-2.06 2.06-.94-2.06-.94L8.5 2.5l-.94 2.06-2.06.94zm10 10l.94 2.06.94-2.06 2.06-.94-2.06-.94-.94-2.06-.94 2.06-2.06.94z\"/><path d=\"M17.41 7.96l-1.37-1.37c-.4-.4-.92-.59-1.43-.59-.52 0-1.04.2-1.43.59L10.3 9.45l-7.72 7.72c-.78.78-.78 2.05 0 2.83L4 21.41c.39.39.9.59 1.41.59.51 0 1.02-.2 1.41-.59l7.78-7.78 2.81-2.81c.8-.78.8-2.07 0-2.86zM5.41 20L4 18.59l7.72-7.72 1.47 1.35L5.41 20z\"/>\n",
              "  </svg>\n",
              "      </button>\n",
              "\n",
              "\n",
              "\n",
              "    <div id=\"df-a303f352-7ecf-4ba1-b338-91fc72c4ec43\">\n",
              "      <button class=\"colab-df-quickchart\" onclick=\"quickchart('df-a303f352-7ecf-4ba1-b338-91fc72c4ec43')\"\n",
              "              title=\"Suggest charts.\"\n",
              "              style=\"display:none;\">\n",
              "\n",
              "<svg xmlns=\"http://www.w3.org/2000/svg\" height=\"24px\"viewBox=\"0 0 24 24\"\n",
              "     width=\"24px\">\n",
              "    <g>\n",
              "        <path d=\"M19 3H5c-1.1 0-2 .9-2 2v14c0 1.1.9 2 2 2h14c1.1 0 2-.9 2-2V5c0-1.1-.9-2-2-2zM9 17H7v-7h2v7zm4 0h-2V7h2v10zm4 0h-2v-4h2v4z\"/>\n",
              "    </g>\n",
              "</svg>\n",
              "      </button>\n",
              "    </div>\n",
              "\n",
              "<style>\n",
              "  .colab-df-quickchart {\n",
              "    background-color: #E8F0FE;\n",
              "    border: none;\n",
              "    border-radius: 50%;\n",
              "    cursor: pointer;\n",
              "    display: none;\n",
              "    fill: #1967D2;\n",
              "    height: 32px;\n",
              "    padding: 0 0 0 0;\n",
              "    width: 32px;\n",
              "  }\n",
              "\n",
              "  .colab-df-quickchart:hover {\n",
              "    background-color: #E2EBFA;\n",
              "    box-shadow: 0px 1px 2px rgba(60, 64, 67, 0.3), 0px 1px 3px 1px rgba(60, 64, 67, 0.15);\n",
              "    fill: #174EA6;\n",
              "  }\n",
              "\n",
              "  [theme=dark] .colab-df-quickchart {\n",
              "    background-color: #3B4455;\n",
              "    fill: #D2E3FC;\n",
              "  }\n",
              "\n",
              "  [theme=dark] .colab-df-quickchart:hover {\n",
              "    background-color: #434B5C;\n",
              "    box-shadow: 0px 1px 3px 1px rgba(0, 0, 0, 0.15);\n",
              "    filter: drop-shadow(0px 1px 2px rgba(0, 0, 0, 0.3));\n",
              "    fill: #FFFFFF;\n",
              "  }\n",
              "</style>\n",
              "\n",
              "    <script>\n",
              "      async function quickchart(key) {\n",
              "        const containerElement = document.querySelector('#' + key);\n",
              "        const charts = await google.colab.kernel.invokeFunction(\n",
              "            'suggestCharts', [key], {});\n",
              "      }\n",
              "    </script>\n",
              "\n",
              "      <script>\n",
              "\n",
              "function displayQuickchartButton(domScope) {\n",
              "  let quickchartButtonEl =\n",
              "    domScope.querySelector('#df-a303f352-7ecf-4ba1-b338-91fc72c4ec43 button.colab-df-quickchart');\n",
              "  quickchartButtonEl.style.display =\n",
              "    google.colab.kernel.accessAllowed ? 'block' : 'none';\n",
              "}\n",
              "\n",
              "        displayQuickchartButton(document);\n",
              "      </script>\n",
              "      <style>\n",
              "    .colab-df-container {\n",
              "      display:flex;\n",
              "      flex-wrap:wrap;\n",
              "      gap: 12px;\n",
              "    }\n",
              "\n",
              "    .colab-df-convert {\n",
              "      background-color: #E8F0FE;\n",
              "      border: none;\n",
              "      border-radius: 50%;\n",
              "      cursor: pointer;\n",
              "      display: none;\n",
              "      fill: #1967D2;\n",
              "      height: 32px;\n",
              "      padding: 0 0 0 0;\n",
              "      width: 32px;\n",
              "    }\n",
              "\n",
              "    .colab-df-convert:hover {\n",
              "      background-color: #E2EBFA;\n",
              "      box-shadow: 0px 1px 2px rgba(60, 64, 67, 0.3), 0px 1px 3px 1px rgba(60, 64, 67, 0.15);\n",
              "      fill: #174EA6;\n",
              "    }\n",
              "\n",
              "    [theme=dark] .colab-df-convert {\n",
              "      background-color: #3B4455;\n",
              "      fill: #D2E3FC;\n",
              "    }\n",
              "\n",
              "    [theme=dark] .colab-df-convert:hover {\n",
              "      background-color: #434B5C;\n",
              "      box-shadow: 0px 1px 3px 1px rgba(0, 0, 0, 0.15);\n",
              "      filter: drop-shadow(0px 1px 2px rgba(0, 0, 0, 0.3));\n",
              "      fill: #FFFFFF;\n",
              "    }\n",
              "  </style>\n",
              "\n",
              "      <script>\n",
              "        const buttonEl =\n",
              "          document.querySelector('#df-80f305d2-66d8-42d9-b399-a9af6409102a button.colab-df-convert');\n",
              "        buttonEl.style.display =\n",
              "          google.colab.kernel.accessAllowed ? 'block' : 'none';\n",
              "\n",
              "        async function convertToInteractive(key) {\n",
              "          const element = document.querySelector('#df-80f305d2-66d8-42d9-b399-a9af6409102a');\n",
              "          const dataTable =\n",
              "            await google.colab.kernel.invokeFunction('convertToInteractive',\n",
              "                                                     [key], {});\n",
              "          if (!dataTable) return;\n",
              "\n",
              "          const docLinkHtml = 'Like what you see? Visit the ' +\n",
              "            '<a target=\"_blank\" href=https://colab.research.google.com/notebooks/data_table.ipynb>data table notebook</a>'\n",
              "            + ' to learn more about interactive tables.';\n",
              "          element.innerHTML = '';\n",
              "          dataTable['output_type'] = 'display_data';\n",
              "          await google.colab.output.renderOutput(dataTable, element);\n",
              "          const docLink = document.createElement('div');\n",
              "          docLink.innerHTML = docLinkHtml;\n",
              "          element.appendChild(docLink);\n",
              "        }\n",
              "      </script>\n",
              "    </div>\n",
              "  </div>\n"
            ]
          },
          "metadata": {},
          "execution_count": 13
        }
      ]
    },
    {
      "cell_type": "markdown",
      "source": [
        "#Hw4\n",
        "1.   งบประมาณประจำหรืองบประมาณลงทุน สูงกว่ากัน\n",
        "2.   งบรวม เดือน oct หรือ sep อันไหนมากกว่ากัน\n",
        "3.   แก้ค่า missing พร้อมทั้งให้เหตุผล\n",
        "4.   เดือนไหนเบิกจ่ายรวมมากกว่ากัน (การใช้จ่าย (PO+เบิกจ่าย))"
      ],
      "metadata": {
        "id": "valFQxAnz3gk"
      }
    },
    {
      "cell_type": "code",
      "source": [
        "##ข้อที่1##\n",
        "\n",
        "## a คืองบประจำ sep และ b คืองบลงทุน sep\n",
        "a = datasep_oct[(datasep_oct['รายการ']=='ประจำ')&( datasep_oct['เดือน-ปี']=='sep-65')]['งบประมาณ']\n",
        "b = datasep_oct[(datasep_oct['รายการ']=='ลงทุน')&( datasep_oct['เดือน-ปี']=='sep-65')]['งบประมาณ']\n",
        "\n",
        "\n",
        "\n",
        "## c คืองบประจำ oct และ d คืองบลงทุน oct\n",
        "c = datasep_oct[(datasep_oct['รายการ']=='ประจำ')&( datasep_oct['เดือน-ปี']=='oct-65')]['งบประมาณ']\n",
        "d = datasep_oct[(datasep_oct['รายการ']=='ลงทุน')&( datasep_oct['เดือน-ปี']=='oct-65')]['งบประมาณ']\n",
        "\n",
        "\n",
        "if int(a)>int(b): print(f'เดือนกันยายนพบว่า งบประมาณประจำ สูงกว่างบประมาณลงทุนอยู่',int(a)-int(b),'บาท')\n",
        "else: print (f'เดือนกันยายนพบว่า งบประมาณลงทุน สูงกว่างบประมาณประจำอยู่',int(b)-int(a),'บาท')\n",
        "\n",
        "if int(c)>int(d): print(f'เดือนตุลาคมพบว่า งบประมาณประจำ สูงกว่างบประมาณลงทุนอยู่', int(c)-int(d),'บาท')\n",
        "else: print (f'เดือนตุลาคมพบว่า  งบประมาณลงทุน สูงกว่างบประมาณประจำอยู่', int(d)-int(c),'บาท')\n"
      ],
      "metadata": {
        "id": "xuk71nvamQZn",
        "outputId": "a61da954-a727-41a9-c103-ac203bdc9b31",
        "colab": {
          "base_uri": "https://localhost:8080/"
        }
      },
      "execution_count": 33,
      "outputs": [
        {
          "output_type": "stream",
          "name": "stdout",
          "text": [
            "เดือนกันยายนพบว่า งบประมาณประจำ สูงกว่างบประมาณลงทุนอยู่ 9314873477 บาท\n",
            "เดือนตุลาคมพบว่า งบประมาณประจำ สูงกว่างบประมาณลงทุนอยู่ 642 บาท\n"
          ]
        }
      ]
    },
    {
      "cell_type": "code",
      "source": [
        "##ข้อที่2##\n",
        "\n",
        "sep = datasep_oct[datasep_oct[\"เดือน-ปี\"] == datasep[\"เดือน-ปี\"][2]]\n",
        "oct = datasep_oct[datasep_oct[\"เดือน-ปี\"] == dataoct[\"เดือน-ปี\"][2]]\n",
        "sep_fixxxxx = sep['งบประมาณ'][2]\n",
        "sep_investtttt = sep['งบประมาณ'][3]\n",
        "sep_sum = sep_fixxxxx + sep_investtttt\n",
        "oct_fixxxxx = oct['งบประมาณ'][2]\n",
        "oct_investtttt = oct['งบประมาณ'][3]\n",
        "oct_sum = oct_fixxxxx + oct_investtttt\n",
        "list_name =[]\n",
        "for x in set(oct['รายการ']):\n",
        "  list_name.append(x)\n",
        "list_name\n",
        "if sep_sum > oct_sum :\n",
        "  print (f'งบรวมที่มากที่สุดคือเดือน {sep[\"เดือน-ปี\"][2]} ซึ่งประกอบไปด้วยงบ \"{list_name[0]}\" เป็นเงินจำนวน {int(sep_fix):,} บาท เเละงบ \"{list_name[1]}\" ซึ่งเป็นเงินจำนวน {int(sep_invest):,} บาท รวมเป็นเงินทั้งสิ้น {int(sep_sum):,} บาท')\n",
        "elif sep_sum < oct_sum :\n",
        "  print (f'งบรวมที่มากที่สุดคือเดือน {oct[\"เดือน-ปี\"][2]} ซึ่งประกอบไปด้วยงบ \"{list_name[0]}\" เป็นเงินจำนวน {int(oct_fix):,} บาท เเละงบ \"{list_name[1]}\" ซึ่งเป็นเงินจำนวน {int(oct_invest):,} บาท รวมเป็นเงินทั้งสิ้น {int(oct_sum):,} บาท')\n"
      ],
      "metadata": {
        "id": "HFG0L4gS3KYr",
        "outputId": "fcac1b82-e238-44a4-f876-cb3a73ba6b8d",
        "colab": {
          "base_uri": "https://localhost:8080/"
        }
      },
      "execution_count": 34,
      "outputs": [
        {
          "output_type": "stream",
          "name": "stdout",
          "text": [
            "งบรวมที่มากที่สุดคือเดือน sep-65 ซึ่งประกอบไปด้วยงบ \"ประจำ\" เป็นเงินจำนวน 18,952,530,608 บาท เเละงบ \"ลงทุน\" ซึ่งเป็นเงินจำนวน 9,589,627,825 บาท รวมเป็นเงินทั้งสิ้น 28,525,389,387 บาท\n"
          ]
        }
      ]
    },
    {
      "cell_type": "code",
      "source": [
        "##ข้อที่3##\n",
        "\n",
        "newtarang = datasep_oct.fillna('-')\n",
        "print ('ค่าที่เปลี่ยนนั้นเป็นข้อมูลเชิงคุณภาพหากใส่ตัวเลขเข้าไปจะสามารถทำให้เกิดความเข้าใจผิดได้ ดังนั้นเพื่อไม่ให้ความเข้าใจคาดเคลื่อนจึงใช้เป็น \"-\" เเทน ')\n",
        "print ('ตารางที่มีการเเก้ไขค่า missing เเล้ว')\n",
        "newtarang"
      ],
      "metadata": {
        "id": "yhyby2mK3qGL",
        "outputId": "bb271f32-7c32-4ff7-8584-8a4e9dcfe0f3",
        "colab": {
          "base_uri": "https://localhost:8080/",
          "height": 343
        }
      },
      "execution_count": 35,
      "outputs": [
        {
          "output_type": "stream",
          "name": "stdout",
          "text": [
            "ค่าที่เปลี่ยนนั้นเป็นข้อมูลเชิงคุณภาพหากใส่ตัวเลขเข้าไปจะสามารถทำให้เกิดความเข้าใจผิดได้ ดังนั้นเพื่อไม่ให้ความเข้าใจคาดเคลื่อนจึงใช้เป็น \"-\" เเทน \n",
            "ตารางที่มีการเเก้ไขค่า missing เเล้ว\n"
          ]
        },
        {
          "output_type": "execute_result",
          "data": {
            "text/plain": [
              "  รายการ      งบประมาณ สำรองเงินมีหนี้            PO      เบิกจ่าย  \\\n",
              "2  ประจำ  1.892013e+10     79257448.41  7.131600e+07  1.880196e+10   \n",
              "3  ลงทุน  9.605258e+09    268343006.52  1.119320e+09  8.201965e+09   \n",
              "2  ประจำ  6.822812e+03               -  1.270684e+01  3.984779e+03   \n",
              "3  ลงทุน  6.180212e+03               -  4.572958e+02  1.291209e+03   \n",
              "\n",
              "   ร้อยละ\\nเบิกจ่าย เป้า\\nหมาย Q4  */- เป้าหมาย  การใช้จ่าย (PO+เบิกจ่าย)  \\\n",
              "2         99.375405          98.0      1.375405              1.895253e+10   \n",
              "3         85.390363          75.0     10.390363              9.589628e+09   \n",
              "2         58.403766             -     23.403766              3.997486e+03   \n",
              "3         20.892634             -      1.892634              1.748505e+03   \n",
              "\n",
              "   ร้อยละ\\nการใช้จ่าย เป้า\\nหมาย Q4.1  */- เป้าหมาย.1  \\\n",
              "2          100.171242           100.0        0.171242   \n",
              "3           99.837275           100.0       -0.162725   \n",
              "2           58.590007               -       23.260007   \n",
              "3           28.291989               -       -0.668011   \n",
              "\n",
              "   คงเหลือ\\nหลังหักใช้จ่าย ลำดับเบิกจ่าย ลำดับ\\nใช้จ่าย เดือน-ปี  \\\n",
              "2            -3.239918e+07             -              -   sep-65   \n",
              "3             1.563013e+07           6.0           15.0   sep-65   \n",
              "2             2.825326e+03             -              -   oct-65   \n",
              "3             4.431707e+03           4.0            6.0   oct-65   \n",
              "\n",
              "  เป้า\\nหมาย Q1 เป้า\\nหมาย Q1.1  \n",
              "2             -               -  \n",
              "3             -               -  \n",
              "2          35.0           35.33  \n",
              "3          19.0           28.96  "
            ],
            "text/html": [
              "\n",
              "\n",
              "  <div id=\"df-2811ef83-4aa4-4448-b43d-2b3a9a3d8737\">\n",
              "    <div class=\"colab-df-container\">\n",
              "      <div>\n",
              "<style scoped>\n",
              "    .dataframe tbody tr th:only-of-type {\n",
              "        vertical-align: middle;\n",
              "    }\n",
              "\n",
              "    .dataframe tbody tr th {\n",
              "        vertical-align: top;\n",
              "    }\n",
              "\n",
              "    .dataframe thead th {\n",
              "        text-align: right;\n",
              "    }\n",
              "</style>\n",
              "<table border=\"1\" class=\"dataframe\">\n",
              "  <thead>\n",
              "    <tr style=\"text-align: right;\">\n",
              "      <th></th>\n",
              "      <th>รายการ</th>\n",
              "      <th>งบประมาณ</th>\n",
              "      <th>สำรองเงินมีหนี้</th>\n",
              "      <th>PO</th>\n",
              "      <th>เบิกจ่าย</th>\n",
              "      <th>ร้อยละ\\nเบิกจ่าย</th>\n",
              "      <th>เป้า\\nหมาย Q4</th>\n",
              "      <th>*/- เป้าหมาย</th>\n",
              "      <th>การใช้จ่าย (PO+เบิกจ่าย)</th>\n",
              "      <th>ร้อยละ\\nการใช้จ่าย</th>\n",
              "      <th>เป้า\\nหมาย Q4.1</th>\n",
              "      <th>*/- เป้าหมาย.1</th>\n",
              "      <th>คงเหลือ\\nหลังหักใช้จ่าย</th>\n",
              "      <th>ลำดับเบิกจ่าย</th>\n",
              "      <th>ลำดับ\\nใช้จ่าย</th>\n",
              "      <th>เดือน-ปี</th>\n",
              "      <th>เป้า\\nหมาย Q1</th>\n",
              "      <th>เป้า\\nหมาย Q1.1</th>\n",
              "    </tr>\n",
              "  </thead>\n",
              "  <tbody>\n",
              "    <tr>\n",
              "      <th>2</th>\n",
              "      <td>ประจำ</td>\n",
              "      <td>1.892013e+10</td>\n",
              "      <td>79257448.41</td>\n",
              "      <td>7.131600e+07</td>\n",
              "      <td>1.880196e+10</td>\n",
              "      <td>99.375405</td>\n",
              "      <td>98.0</td>\n",
              "      <td>1.375405</td>\n",
              "      <td>1.895253e+10</td>\n",
              "      <td>100.171242</td>\n",
              "      <td>100.0</td>\n",
              "      <td>0.171242</td>\n",
              "      <td>-3.239918e+07</td>\n",
              "      <td>-</td>\n",
              "      <td>-</td>\n",
              "      <td>sep-65</td>\n",
              "      <td>-</td>\n",
              "      <td>-</td>\n",
              "    </tr>\n",
              "    <tr>\n",
              "      <th>3</th>\n",
              "      <td>ลงทุน</td>\n",
              "      <td>9.605258e+09</td>\n",
              "      <td>268343006.52</td>\n",
              "      <td>1.119320e+09</td>\n",
              "      <td>8.201965e+09</td>\n",
              "      <td>85.390363</td>\n",
              "      <td>75.0</td>\n",
              "      <td>10.390363</td>\n",
              "      <td>9.589628e+09</td>\n",
              "      <td>99.837275</td>\n",
              "      <td>100.0</td>\n",
              "      <td>-0.162725</td>\n",
              "      <td>1.563013e+07</td>\n",
              "      <td>6.0</td>\n",
              "      <td>15.0</td>\n",
              "      <td>sep-65</td>\n",
              "      <td>-</td>\n",
              "      <td>-</td>\n",
              "    </tr>\n",
              "    <tr>\n",
              "      <th>2</th>\n",
              "      <td>ประจำ</td>\n",
              "      <td>6.822812e+03</td>\n",
              "      <td>-</td>\n",
              "      <td>1.270684e+01</td>\n",
              "      <td>3.984779e+03</td>\n",
              "      <td>58.403766</td>\n",
              "      <td>-</td>\n",
              "      <td>23.403766</td>\n",
              "      <td>3.997486e+03</td>\n",
              "      <td>58.590007</td>\n",
              "      <td>-</td>\n",
              "      <td>23.260007</td>\n",
              "      <td>2.825326e+03</td>\n",
              "      <td>-</td>\n",
              "      <td>-</td>\n",
              "      <td>oct-65</td>\n",
              "      <td>35.0</td>\n",
              "      <td>35.33</td>\n",
              "    </tr>\n",
              "    <tr>\n",
              "      <th>3</th>\n",
              "      <td>ลงทุน</td>\n",
              "      <td>6.180212e+03</td>\n",
              "      <td>-</td>\n",
              "      <td>4.572958e+02</td>\n",
              "      <td>1.291209e+03</td>\n",
              "      <td>20.892634</td>\n",
              "      <td>-</td>\n",
              "      <td>1.892634</td>\n",
              "      <td>1.748505e+03</td>\n",
              "      <td>28.291989</td>\n",
              "      <td>-</td>\n",
              "      <td>-0.668011</td>\n",
              "      <td>4.431707e+03</td>\n",
              "      <td>4.0</td>\n",
              "      <td>6.0</td>\n",
              "      <td>oct-65</td>\n",
              "      <td>19.0</td>\n",
              "      <td>28.96</td>\n",
              "    </tr>\n",
              "  </tbody>\n",
              "</table>\n",
              "</div>\n",
              "      <button class=\"colab-df-convert\" onclick=\"convertToInteractive('df-2811ef83-4aa4-4448-b43d-2b3a9a3d8737')\"\n",
              "              title=\"Convert this dataframe to an interactive table.\"\n",
              "              style=\"display:none;\">\n",
              "\n",
              "  <svg xmlns=\"http://www.w3.org/2000/svg\" height=\"24px\"viewBox=\"0 0 24 24\"\n",
              "       width=\"24px\">\n",
              "    <path d=\"M0 0h24v24H0V0z\" fill=\"none\"/>\n",
              "    <path d=\"M18.56 5.44l.94 2.06.94-2.06 2.06-.94-2.06-.94-.94-2.06-.94 2.06-2.06.94zm-11 1L8.5 8.5l.94-2.06 2.06-.94-2.06-.94L8.5 2.5l-.94 2.06-2.06.94zm10 10l.94 2.06.94-2.06 2.06-.94-2.06-.94-.94-2.06-.94 2.06-2.06.94z\"/><path d=\"M17.41 7.96l-1.37-1.37c-.4-.4-.92-.59-1.43-.59-.52 0-1.04.2-1.43.59L10.3 9.45l-7.72 7.72c-.78.78-.78 2.05 0 2.83L4 21.41c.39.39.9.59 1.41.59.51 0 1.02-.2 1.41-.59l7.78-7.78 2.81-2.81c.8-.78.8-2.07 0-2.86zM5.41 20L4 18.59l7.72-7.72 1.47 1.35L5.41 20z\"/>\n",
              "  </svg>\n",
              "      </button>\n",
              "\n",
              "\n",
              "\n",
              "    <div id=\"df-43d5716c-a39e-462b-b62f-cd87fe985473\">\n",
              "      <button class=\"colab-df-quickchart\" onclick=\"quickchart('df-43d5716c-a39e-462b-b62f-cd87fe985473')\"\n",
              "              title=\"Suggest charts.\"\n",
              "              style=\"display:none;\">\n",
              "\n",
              "<svg xmlns=\"http://www.w3.org/2000/svg\" height=\"24px\"viewBox=\"0 0 24 24\"\n",
              "     width=\"24px\">\n",
              "    <g>\n",
              "        <path d=\"M19 3H5c-1.1 0-2 .9-2 2v14c0 1.1.9 2 2 2h14c1.1 0 2-.9 2-2V5c0-1.1-.9-2-2-2zM9 17H7v-7h2v7zm4 0h-2V7h2v10zm4 0h-2v-4h2v4z\"/>\n",
              "    </g>\n",
              "</svg>\n",
              "      </button>\n",
              "    </div>\n",
              "\n",
              "<style>\n",
              "  .colab-df-quickchart {\n",
              "    background-color: #E8F0FE;\n",
              "    border: none;\n",
              "    border-radius: 50%;\n",
              "    cursor: pointer;\n",
              "    display: none;\n",
              "    fill: #1967D2;\n",
              "    height: 32px;\n",
              "    padding: 0 0 0 0;\n",
              "    width: 32px;\n",
              "  }\n",
              "\n",
              "  .colab-df-quickchart:hover {\n",
              "    background-color: #E2EBFA;\n",
              "    box-shadow: 0px 1px 2px rgba(60, 64, 67, 0.3), 0px 1px 3px 1px rgba(60, 64, 67, 0.15);\n",
              "    fill: #174EA6;\n",
              "  }\n",
              "\n",
              "  [theme=dark] .colab-df-quickchart {\n",
              "    background-color: #3B4455;\n",
              "    fill: #D2E3FC;\n",
              "  }\n",
              "\n",
              "  [theme=dark] .colab-df-quickchart:hover {\n",
              "    background-color: #434B5C;\n",
              "    box-shadow: 0px 1px 3px 1px rgba(0, 0, 0, 0.15);\n",
              "    filter: drop-shadow(0px 1px 2px rgba(0, 0, 0, 0.3));\n",
              "    fill: #FFFFFF;\n",
              "  }\n",
              "</style>\n",
              "\n",
              "    <script>\n",
              "      async function quickchart(key) {\n",
              "        const containerElement = document.querySelector('#' + key);\n",
              "        const charts = await google.colab.kernel.invokeFunction(\n",
              "            'suggestCharts', [key], {});\n",
              "      }\n",
              "    </script>\n",
              "\n",
              "      <script>\n",
              "\n",
              "function displayQuickchartButton(domScope) {\n",
              "  let quickchartButtonEl =\n",
              "    domScope.querySelector('#df-43d5716c-a39e-462b-b62f-cd87fe985473 button.colab-df-quickchart');\n",
              "  quickchartButtonEl.style.display =\n",
              "    google.colab.kernel.accessAllowed ? 'block' : 'none';\n",
              "}\n",
              "\n",
              "        displayQuickchartButton(document);\n",
              "      </script>\n",
              "      <style>\n",
              "    .colab-df-container {\n",
              "      display:flex;\n",
              "      flex-wrap:wrap;\n",
              "      gap: 12px;\n",
              "    }\n",
              "\n",
              "    .colab-df-convert {\n",
              "      background-color: #E8F0FE;\n",
              "      border: none;\n",
              "      border-radius: 50%;\n",
              "      cursor: pointer;\n",
              "      display: none;\n",
              "      fill: #1967D2;\n",
              "      height: 32px;\n",
              "      padding: 0 0 0 0;\n",
              "      width: 32px;\n",
              "    }\n",
              "\n",
              "    .colab-df-convert:hover {\n",
              "      background-color: #E2EBFA;\n",
              "      box-shadow: 0px 1px 2px rgba(60, 64, 67, 0.3), 0px 1px 3px 1px rgba(60, 64, 67, 0.15);\n",
              "      fill: #174EA6;\n",
              "    }\n",
              "\n",
              "    [theme=dark] .colab-df-convert {\n",
              "      background-color: #3B4455;\n",
              "      fill: #D2E3FC;\n",
              "    }\n",
              "\n",
              "    [theme=dark] .colab-df-convert:hover {\n",
              "      background-color: #434B5C;\n",
              "      box-shadow: 0px 1px 3px 1px rgba(0, 0, 0, 0.15);\n",
              "      filter: drop-shadow(0px 1px 2px rgba(0, 0, 0, 0.3));\n",
              "      fill: #FFFFFF;\n",
              "    }\n",
              "  </style>\n",
              "\n",
              "      <script>\n",
              "        const buttonEl =\n",
              "          document.querySelector('#df-2811ef83-4aa4-4448-b43d-2b3a9a3d8737 button.colab-df-convert');\n",
              "        buttonEl.style.display =\n",
              "          google.colab.kernel.accessAllowed ? 'block' : 'none';\n",
              "\n",
              "        async function convertToInteractive(key) {\n",
              "          const element = document.querySelector('#df-2811ef83-4aa4-4448-b43d-2b3a9a3d8737');\n",
              "          const dataTable =\n",
              "            await google.colab.kernel.invokeFunction('convertToInteractive',\n",
              "                                                     [key], {});\n",
              "          if (!dataTable) return;\n",
              "\n",
              "          const docLinkHtml = 'Like what you see? Visit the ' +\n",
              "            '<a target=\"_blank\" href=https://colab.research.google.com/notebooks/data_table.ipynb>data table notebook</a>'\n",
              "            + ' to learn more about interactive tables.';\n",
              "          element.innerHTML = '';\n",
              "          dataTable['output_type'] = 'display_data';\n",
              "          await google.colab.output.renderOutput(dataTable, element);\n",
              "          const docLink = document.createElement('div');\n",
              "          docLink.innerHTML = docLinkHtml;\n",
              "          element.appendChild(docLink);\n",
              "        }\n",
              "      </script>\n",
              "    </div>\n",
              "  </div>\n"
            ]
          },
          "metadata": {},
          "execution_count": 35
        }
      ]
    },
    {
      "cell_type": "code",
      "source": [
        "##ข้อที่4##\n",
        "\n",
        "sep = datasep_oct[datasep_oct[\"เดือน-ปี\"] == datasep[\"เดือน-ปี\"][2]]\n",
        "oct = datasep_oct[datasep_oct[\"เดือน-ปี\"] == dataoct[\"เดือน-ปี\"][2]]\n",
        "sep_fixxxxx = sep['การใช้จ่าย (PO+เบิกจ่าย)'][2]\n",
        "sep_investtttt = sep['การใช้จ่าย (PO+เบิกจ่าย)'][3]\n",
        "sep_sum = sep_fixxxxx + sep_investtttt\n",
        "oct_fixxxxx = oct['การใช้จ่าย (PO+เบิกจ่าย)'][2]\n",
        "oct_investtttt = oct['การใช้จ่าย (PO+เบิกจ่าย)'][3]\n",
        "oct_sum = oct_fixxxxx + oct_investtttt\n",
        "list_name =[]\n",
        "for i in set(oct['รายการ']):\n",
        "  list_name.append(i)\n",
        "list_name\n",
        "if sep_sum > oct_sum :\n",
        "  print (f'งบรวมที่มากที่สุดคือเดือน {sep[\"เดือน-ปี\"][2]} ซึ่งประกอบไปด้วยงบ \"{list_name[0]}\" เป็นจำนวน {int(sep_fix):,} บาท เเละงบ \"{list_name[1]}\" ซึ่งเป็นเงินจำนวน {int(sep_invest):,} บาท รวมเป็นเงินทั้งสิ้น {int(sep_sum):,} บาท')\n",
        "elif sep_sum < oct_sum :\n",
        "  print (f'งบรวมที่มากที่สุดคือเดือน {oct[\"เดือน-ปี\"][2]} ซึ่งประกอบไปด้วยงบ \"{list_name[0]}\" เป็นจำนวน {int(oct_fix):,} บาท เเละงบ \"{list_name[1]}\" ซึ่งเป็นเงินจำนวน {int(oct_invest):,} บาท รวมเป็นเงินทั้งสิ้น {int(oct_sum):,} บาท')"
      ],
      "metadata": {
        "id": "PA5utnRT7Bq0",
        "outputId": "27c4b4ac-52d0-4d31-e640-ddd7f1be26ae",
        "colab": {
          "base_uri": "https://localhost:8080/"
        }
      },
      "execution_count": 36,
      "outputs": [
        {
          "output_type": "stream",
          "name": "stdout",
          "text": [
            "งบรวมที่มากที่สุดคือเดือน sep-65 ซึ่งประกอบไปด้วยงบ \"ประจำ\" เป็นจำนวน 18,952,530,608 บาท เเละงบ \"ลงทุน\" ซึ่งเป็นเงินจำนวน 9,589,627,825 บาท รวมเป็นเงินทั้งสิ้น 28,542,158,434 บาท\n"
          ]
        }
      ]
    }
  ]
}